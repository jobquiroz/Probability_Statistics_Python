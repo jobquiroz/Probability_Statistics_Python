{
 "cells": [
  {
   "cell_type": "markdown",
   "metadata": {},
   "source": [
    "# Sampling\n",
    "\n",
    "\n",
    "In this first course, we begin with discussing the details around getting data for analysis, and continue with trying to understand the intricacies around how data is structured and measured. We'll then move on with learning techniques to organize and visualize relatively large amounts of data, which will make the process of finding patterns considerably less difficult.\n",
    "\n",
    "Below is a diagram describing the workflow we'll be focusing on throughout this first course.\n",
    "\n",
    "![img](img/general.png)\n"
   ]
  },
  {
   "cell_type": "markdown",
   "metadata": {},
   "source": [
    "## Populations and samples\n",
    "\n",
    "In statistics, the set of all individuals relevant to a particular statistical question is called a population. For our analyst's question, all the people inside the company were relevant. So the population in this case consisted from all the people in the company.\n",
    "\n",
    "A smaller group selected from a population is called a sample. When we select a smaller group from a population we do sampling. In our example, the data analyst took a sample of approximately 100 people from a population of over 50,000 people.\n",
    "\n",
    "![img](img/sampling.png)\n",
    "\n",
    "\n",
    "The individual elements of a population or a sample go under many names. You'll often see the elements of a population referred to as individuals, units, events, observations. These are all used interchangeably and refer to the same thing: the individual parts of a population. When we use the term \"population individuals\", the population is not necessarily composed of people. \"Individuals\" here is a general term that could refer to people, needles, frogs, stars, etc.\n",
    "\n",
    "In the case of a sample, you'll often see this terminology used interchangeably: sample unit, sample point, sample individual, or sample observation.\n",
    "\n",
    "![img](img/ind.png)"
   ]
  },
  {
   "cell_type": "markdown",
   "metadata": {},
   "source": [
    "## Sampling error\n",
    "\n",
    "For every statistical question we want to answer, we should try to use the population. In practice, that's not always possible because the populations of interest usually vary from large to extremely large. Also, getting data is generally not an easy task, so small populations often pose problems too.\n",
    "\n",
    "These problems can be solved by sampling from the population that interests us. Although not as good as working with the entire population, working with a sample is the next best thing we can do.\n",
    "\n",
    "When we sample, the data we get might be more or less similar to the data in the population. For instance, let's say we know that the average salary in our company is $34500, and the proportion of women is 60\\%. We take two samples and find these results:\n",
    "\n",
    "![img](img/ss.png)\n",
    "\n",
    "As you can see, the metrics of the two samples are different than the metrics of the population. A sample is by definition an incomplete set of data for the question we're trying to answer. For this reason, there's almost always some difference between the metrics of a population and the metrics of a sample. This difference can be seen as an error, and because it's the result of sampling, it's called **sampling error**.\n",
    "\n",
    "\n",
    "A metric specific to a population is called a parameter, while one specific to a sample is called a statistic. In our example above, the average salary of all the employees is a parameter because it's a metric that describes the entire population. The average salaries from our two samples are examples of statistics because they only describe the samples.\n",
    "\n",
    "Another way to think of the concept of the sampling error is as the difference between a parameter and a statistic:\n",
    "\n",
    "\n",
    "$$sampling error = parameter - statistic$$\n",
    "\n",
    "\n",
    "\n",
    "### WNBA Salaries\n",
    "\n",
    "At this point in the mission, we'll move from the tech company example to working with a real world data set. Our first challenge will be to measure sampling error using this data set.\n",
    "\n",
    "The data set is about basketball players in the WNBA (Women's National Basketball Association), and contains general information about players, along with their metrics for the season 2016-2017. The data set was put together by Thomas De Jonghe, and can be downloaded from Kaggle, where you can also find useful documentation for the data set."
   ]
  },
  {
   "cell_type": "code",
   "execution_count": 2,
   "metadata": {},
   "outputs": [
    {
     "data": {
      "text/html": [
       "<div>\n",
       "<style scoped>\n",
       "    .dataframe tbody tr th:only-of-type {\n",
       "        vertical-align: middle;\n",
       "    }\n",
       "\n",
       "    .dataframe tbody tr th {\n",
       "        vertical-align: top;\n",
       "    }\n",
       "\n",
       "    .dataframe thead th {\n",
       "        text-align: right;\n",
       "    }\n",
       "</style>\n",
       "<table border=\"1\" class=\"dataframe\">\n",
       "  <thead>\n",
       "    <tr style=\"text-align: right;\">\n",
       "      <th></th>\n",
       "      <th>Name</th>\n",
       "      <th>Team</th>\n",
       "      <th>Pos</th>\n",
       "      <th>Height</th>\n",
       "      <th>Weight</th>\n",
       "      <th>BMI</th>\n",
       "      <th>Birth_Place</th>\n",
       "      <th>Birthdate</th>\n",
       "      <th>Age</th>\n",
       "      <th>College</th>\n",
       "      <th>...</th>\n",
       "      <th>OREB</th>\n",
       "      <th>DREB</th>\n",
       "      <th>REB</th>\n",
       "      <th>AST</th>\n",
       "      <th>STL</th>\n",
       "      <th>BLK</th>\n",
       "      <th>TO</th>\n",
       "      <th>PTS</th>\n",
       "      <th>DD2</th>\n",
       "      <th>TD3</th>\n",
       "    </tr>\n",
       "  </thead>\n",
       "  <tbody>\n",
       "    <tr>\n",
       "      <th>0</th>\n",
       "      <td>Aerial Powers</td>\n",
       "      <td>DAL</td>\n",
       "      <td>F</td>\n",
       "      <td>183</td>\n",
       "      <td>71.0</td>\n",
       "      <td>21.200991</td>\n",
       "      <td>US</td>\n",
       "      <td>January 17, 1994</td>\n",
       "      <td>23</td>\n",
       "      <td>Michigan State</td>\n",
       "      <td>...</td>\n",
       "      <td>6</td>\n",
       "      <td>22</td>\n",
       "      <td>28</td>\n",
       "      <td>12</td>\n",
       "      <td>3</td>\n",
       "      <td>6</td>\n",
       "      <td>12</td>\n",
       "      <td>93</td>\n",
       "      <td>0</td>\n",
       "      <td>0</td>\n",
       "    </tr>\n",
       "    <tr>\n",
       "      <th>1</th>\n",
       "      <td>Alana Beard</td>\n",
       "      <td>LA</td>\n",
       "      <td>G/F</td>\n",
       "      <td>185</td>\n",
       "      <td>73.0</td>\n",
       "      <td>21.329438</td>\n",
       "      <td>US</td>\n",
       "      <td>May 14, 1982</td>\n",
       "      <td>35</td>\n",
       "      <td>Duke</td>\n",
       "      <td>...</td>\n",
       "      <td>19</td>\n",
       "      <td>82</td>\n",
       "      <td>101</td>\n",
       "      <td>72</td>\n",
       "      <td>63</td>\n",
       "      <td>13</td>\n",
       "      <td>40</td>\n",
       "      <td>217</td>\n",
       "      <td>0</td>\n",
       "      <td>0</td>\n",
       "    </tr>\n",
       "    <tr>\n",
       "      <th>2</th>\n",
       "      <td>Alex Bentley</td>\n",
       "      <td>CON</td>\n",
       "      <td>G</td>\n",
       "      <td>170</td>\n",
       "      <td>69.0</td>\n",
       "      <td>23.875433</td>\n",
       "      <td>US</td>\n",
       "      <td>October 27, 1990</td>\n",
       "      <td>26</td>\n",
       "      <td>Penn State</td>\n",
       "      <td>...</td>\n",
       "      <td>4</td>\n",
       "      <td>36</td>\n",
       "      <td>40</td>\n",
       "      <td>78</td>\n",
       "      <td>22</td>\n",
       "      <td>3</td>\n",
       "      <td>24</td>\n",
       "      <td>218</td>\n",
       "      <td>0</td>\n",
       "      <td>0</td>\n",
       "    </tr>\n",
       "    <tr>\n",
       "      <th>3</th>\n",
       "      <td>Alex Montgomery</td>\n",
       "      <td>SAN</td>\n",
       "      <td>G/F</td>\n",
       "      <td>185</td>\n",
       "      <td>84.0</td>\n",
       "      <td>24.543462</td>\n",
       "      <td>US</td>\n",
       "      <td>December 11, 1988</td>\n",
       "      <td>28</td>\n",
       "      <td>Georgia Tech</td>\n",
       "      <td>...</td>\n",
       "      <td>35</td>\n",
       "      <td>134</td>\n",
       "      <td>169</td>\n",
       "      <td>65</td>\n",
       "      <td>20</td>\n",
       "      <td>10</td>\n",
       "      <td>38</td>\n",
       "      <td>188</td>\n",
       "      <td>2</td>\n",
       "      <td>0</td>\n",
       "    </tr>\n",
       "    <tr>\n",
       "      <th>4</th>\n",
       "      <td>Alexis Jones</td>\n",
       "      <td>MIN</td>\n",
       "      <td>G</td>\n",
       "      <td>175</td>\n",
       "      <td>78.0</td>\n",
       "      <td>25.469388</td>\n",
       "      <td>US</td>\n",
       "      <td>August 5, 1994</td>\n",
       "      <td>23</td>\n",
       "      <td>Baylor</td>\n",
       "      <td>...</td>\n",
       "      <td>3</td>\n",
       "      <td>9</td>\n",
       "      <td>12</td>\n",
       "      <td>12</td>\n",
       "      <td>7</td>\n",
       "      <td>0</td>\n",
       "      <td>14</td>\n",
       "      <td>50</td>\n",
       "      <td>0</td>\n",
       "      <td>0</td>\n",
       "    </tr>\n",
       "  </tbody>\n",
       "</table>\n",
       "<p>5 rows × 32 columns</p>\n",
       "</div>"
      ],
      "text/plain": [
       "              Name Team  Pos  Height  Weight        BMI Birth_Place  \\\n",
       "0    Aerial Powers  DAL    F     183    71.0  21.200991          US   \n",
       "1      Alana Beard   LA  G/F     185    73.0  21.329438          US   \n",
       "2     Alex Bentley  CON    G     170    69.0  23.875433          US   \n",
       "3  Alex Montgomery  SAN  G/F     185    84.0  24.543462          US   \n",
       "4     Alexis Jones  MIN    G     175    78.0  25.469388          US   \n",
       "\n",
       "           Birthdate  Age         College  ... OREB  DREB  REB  AST  STL  BLK  \\\n",
       "0   January 17, 1994   23  Michigan State  ...    6    22   28   12    3    6   \n",
       "1       May 14, 1982   35            Duke  ...   19    82  101   72   63   13   \n",
       "2   October 27, 1990   26      Penn State  ...    4    36   40   78   22    3   \n",
       "3  December 11, 1988   28    Georgia Tech  ...   35   134  169   65   20   10   \n",
       "4     August 5, 1994   23          Baylor  ...    3     9   12   12    7    0   \n",
       "\n",
       "   TO  PTS  DD2  TD3  \n",
       "0  12   93    0    0  \n",
       "1  40  217    0    0  \n",
       "2  24  218    0    0  \n",
       "3  38  188    2    0  \n",
       "4  14   50    0    0  \n",
       "\n",
       "[5 rows x 32 columns]"
      ]
     },
     "execution_count": 2,
     "metadata": {},
     "output_type": "execute_result"
    }
   ],
   "source": [
    "import pandas as pd\n",
    "\n",
    "wnba = pd.read_csv('wnba.csv')\n",
    "\n",
    "wnba.head()"
   ]
  },
  {
   "cell_type": "code",
   "execution_count": 3,
   "metadata": {},
   "outputs": [
    {
     "data": {
      "text/html": [
       "<div>\n",
       "<style scoped>\n",
       "    .dataframe tbody tr th:only-of-type {\n",
       "        vertical-align: middle;\n",
       "    }\n",
       "\n",
       "    .dataframe tbody tr th {\n",
       "        vertical-align: top;\n",
       "    }\n",
       "\n",
       "    .dataframe thead th {\n",
       "        text-align: right;\n",
       "    }\n",
       "</style>\n",
       "<table border=\"1\" class=\"dataframe\">\n",
       "  <thead>\n",
       "    <tr style=\"text-align: right;\">\n",
       "      <th></th>\n",
       "      <th>Name</th>\n",
       "      <th>Team</th>\n",
       "      <th>Pos</th>\n",
       "      <th>Height</th>\n",
       "      <th>Weight</th>\n",
       "      <th>BMI</th>\n",
       "      <th>Birth_Place</th>\n",
       "      <th>Birthdate</th>\n",
       "      <th>Age</th>\n",
       "      <th>College</th>\n",
       "      <th>...</th>\n",
       "      <th>OREB</th>\n",
       "      <th>DREB</th>\n",
       "      <th>REB</th>\n",
       "      <th>AST</th>\n",
       "      <th>STL</th>\n",
       "      <th>BLK</th>\n",
       "      <th>TO</th>\n",
       "      <th>PTS</th>\n",
       "      <th>DD2</th>\n",
       "      <th>TD3</th>\n",
       "    </tr>\n",
       "  </thead>\n",
       "  <tbody>\n",
       "    <tr>\n",
       "      <th>138</th>\n",
       "      <td>Tiffany Hayes</td>\n",
       "      <td>ATL</td>\n",
       "      <td>G</td>\n",
       "      <td>178</td>\n",
       "      <td>70.0</td>\n",
       "      <td>22.093170</td>\n",
       "      <td>US</td>\n",
       "      <td>September 20, 1989</td>\n",
       "      <td>27</td>\n",
       "      <td>Connecticut</td>\n",
       "      <td>...</td>\n",
       "      <td>28</td>\n",
       "      <td>89</td>\n",
       "      <td>117</td>\n",
       "      <td>69</td>\n",
       "      <td>37</td>\n",
       "      <td>8</td>\n",
       "      <td>50</td>\n",
       "      <td>467</td>\n",
       "      <td>0</td>\n",
       "      <td>0</td>\n",
       "    </tr>\n",
       "    <tr>\n",
       "      <th>139</th>\n",
       "      <td>Tiffany Jackson</td>\n",
       "      <td>LA</td>\n",
       "      <td>F</td>\n",
       "      <td>191</td>\n",
       "      <td>84.0</td>\n",
       "      <td>23.025685</td>\n",
       "      <td>US</td>\n",
       "      <td>April 26, 1985</td>\n",
       "      <td>32</td>\n",
       "      <td>Texas</td>\n",
       "      <td>...</td>\n",
       "      <td>5</td>\n",
       "      <td>18</td>\n",
       "      <td>23</td>\n",
       "      <td>3</td>\n",
       "      <td>1</td>\n",
       "      <td>3</td>\n",
       "      <td>8</td>\n",
       "      <td>28</td>\n",
       "      <td>0</td>\n",
       "      <td>0</td>\n",
       "    </tr>\n",
       "    <tr>\n",
       "      <th>140</th>\n",
       "      <td>Tiffany Mitchell</td>\n",
       "      <td>IND</td>\n",
       "      <td>G</td>\n",
       "      <td>175</td>\n",
       "      <td>69.0</td>\n",
       "      <td>22.530612</td>\n",
       "      <td>US</td>\n",
       "      <td>September 23, 1984</td>\n",
       "      <td>32</td>\n",
       "      <td>South Carolina</td>\n",
       "      <td>...</td>\n",
       "      <td>16</td>\n",
       "      <td>70</td>\n",
       "      <td>86</td>\n",
       "      <td>39</td>\n",
       "      <td>31</td>\n",
       "      <td>5</td>\n",
       "      <td>40</td>\n",
       "      <td>277</td>\n",
       "      <td>0</td>\n",
       "      <td>0</td>\n",
       "    </tr>\n",
       "    <tr>\n",
       "      <th>141</th>\n",
       "      <td>Tina Charles</td>\n",
       "      <td>NY</td>\n",
       "      <td>F/C</td>\n",
       "      <td>193</td>\n",
       "      <td>84.0</td>\n",
       "      <td>22.550941</td>\n",
       "      <td>US</td>\n",
       "      <td>May 12, 1988</td>\n",
       "      <td>29</td>\n",
       "      <td>Connecticut</td>\n",
       "      <td>...</td>\n",
       "      <td>56</td>\n",
       "      <td>212</td>\n",
       "      <td>268</td>\n",
       "      <td>75</td>\n",
       "      <td>21</td>\n",
       "      <td>22</td>\n",
       "      <td>71</td>\n",
       "      <td>582</td>\n",
       "      <td>11</td>\n",
       "      <td>0</td>\n",
       "    </tr>\n",
       "    <tr>\n",
       "      <th>142</th>\n",
       "      <td>Yvonne Turner</td>\n",
       "      <td>PHO</td>\n",
       "      <td>G</td>\n",
       "      <td>175</td>\n",
       "      <td>59.0</td>\n",
       "      <td>19.265306</td>\n",
       "      <td>US</td>\n",
       "      <td>October 13, 1987</td>\n",
       "      <td>29</td>\n",
       "      <td>Nebraska</td>\n",
       "      <td>...</td>\n",
       "      <td>11</td>\n",
       "      <td>13</td>\n",
       "      <td>24</td>\n",
       "      <td>30</td>\n",
       "      <td>18</td>\n",
       "      <td>1</td>\n",
       "      <td>32</td>\n",
       "      <td>151</td>\n",
       "      <td>0</td>\n",
       "      <td>0</td>\n",
       "    </tr>\n",
       "  </tbody>\n",
       "</table>\n",
       "<p>5 rows × 32 columns</p>\n",
       "</div>"
      ],
      "text/plain": [
       "                 Name Team  Pos  Height  Weight        BMI Birth_Place  \\\n",
       "138     Tiffany Hayes  ATL    G     178    70.0  22.093170          US   \n",
       "139   Tiffany Jackson   LA    F     191    84.0  23.025685          US   \n",
       "140  Tiffany Mitchell  IND    G     175    69.0  22.530612          US   \n",
       "141      Tina Charles   NY  F/C     193    84.0  22.550941          US   \n",
       "142     Yvonne Turner  PHO    G     175    59.0  19.265306          US   \n",
       "\n",
       "              Birthdate  Age         College  ... OREB  DREB  REB  AST  STL  \\\n",
       "138  September 20, 1989   27     Connecticut  ...   28    89  117   69   37   \n",
       "139      April 26, 1985   32           Texas  ...    5    18   23    3    1   \n",
       "140  September 23, 1984   32  South Carolina  ...   16    70   86   39   31   \n",
       "141        May 12, 1988   29     Connecticut  ...   56   212  268   75   21   \n",
       "142    October 13, 1987   29        Nebraska  ...   11    13   24   30   18   \n",
       "\n",
       "     BLK  TO  PTS  DD2  TD3  \n",
       "138    8  50  467    0    0  \n",
       "139    3   8   28    0    0  \n",
       "140    5  40  277    0    0  \n",
       "141   22  71  582   11    0  \n",
       "142    1  32  151    0    0  \n",
       "\n",
       "[5 rows x 32 columns]"
      ]
     },
     "execution_count": 3,
     "metadata": {},
     "output_type": "execute_result"
    }
   ],
   "source": [
    "wnba.tail()"
   ]
  },
  {
   "cell_type": "code",
   "execution_count": 4,
   "metadata": {},
   "outputs": [
    {
     "data": {
      "text/plain": [
       "(143, 32)"
      ]
     },
     "execution_count": 4,
     "metadata": {},
     "output_type": "execute_result"
    }
   ],
   "source": [
    "wnba.shape"
   ]
  },
  {
   "cell_type": "markdown",
   "metadata": {},
   "source": [
    "#### Some statistics and sampling errors\n",
    "\n",
    "Use the Games Played column to find the maximum number of games played by a player in the season 2016-2017. The data set contains all the players that had at least one game, so it's a population relative to our question. Find this parameter, and assign the result to a variable named parameter."
   ]
  },
  {
   "cell_type": "code",
   "execution_count": 8,
   "metadata": {},
   "outputs": [
    {
     "data": {
      "text/plain": [
       "32"
      ]
     },
     "execution_count": 8,
     "metadata": {},
     "output_type": "execute_result"
    }
   ],
   "source": [
    "# Takes all the population\n",
    "parameter = wnba['Games Played'].max()\n",
    "parameter"
   ]
  },
  {
   "cell_type": "markdown",
   "metadata": {},
   "source": [
    "Using the `DataFrame.sample()` method, sample randomly 30 players from the population, and assign the result to a variable named sample."
   ]
  },
  {
   "cell_type": "code",
   "execution_count": 7,
   "metadata": {},
   "outputs": [
    {
     "data": {
      "text/plain": [
       "30"
      ]
     },
     "execution_count": 7,
     "metadata": {},
     "output_type": "execute_result"
    }
   ],
   "source": [
    "sample = wnba['Games Played'].sample(30, random_state = 1)\n",
    "\n",
    "# Maximum number of games using the sample\n",
    "statistic = sample.max()\n",
    "statistic"
   ]
  },
  {
   "cell_type": "code",
   "execution_count": 9,
   "metadata": {},
   "outputs": [
    {
     "data": {
      "text/plain": [
       "2"
      ]
     },
     "execution_count": 9,
     "metadata": {},
     "output_type": "execute_result"
    }
   ],
   "source": [
    "# Sampling error\n",
    "sampling_error = parameter - statistic\n",
    "sampling_error"
   ]
  },
  {
   "cell_type": "markdown",
   "metadata": {},
   "source": [
    "## Simple random sampling\n",
    "\n",
    "When we sample we want to minimize the sampling error as much as possible. We want our sample to mirror the population as closely as possible.\n",
    "\n",
    "If we sampled to measure the mean height of adults in the US, we'd like our sample statistic (sample mean height) to get as close as possible to the population's parameter (population mean height). For this to happen, **we need the individuals in our sample to form a group that is similar in structure with the group forming the population.**\n",
    "\n",
    "In statistical terms, we want our samples to be **representative** of their corresponding populations. If a sample is representative, then the sampling error is low. The more representative a sample is, the smaller the sampling error. The less representative a sample is, the greater the sampling error.\n",
    "\n",
    "![img](img/repr.png)\n",
    "\n",
    "\n",
    "To make our samples representative, we can try to give every individual in the population an equal chance to be selected in our samples. We want a very tall individual to have the same chance as being selected as an individual having a medium or short height. **To give every individual an equal chance of being picked, we need to sample randomly.**\n",
    "\n",
    "\n",
    "One way to perform random sampling is to generate random numbers and use them to select a few sample units from the population. In statistics, this sampling method is called **simple random sampling**, and it's often abbreviated as **SRS**.\n",
    "\n",
    "![img](img/SRS.png)\n",
    "\n",
    "\n",
    "In our previous exercise, we used `Series.sample()` to sample. This method performs simple random sampling by generating an array of random numbers, and then using those numbers to select values from a Series at the indices corresponding to those random numbers. The method can be also extended for DataFrame objects, where random rows or columns can be sampled.\n",
    "\n",
    "When we use the `random_state` parameter, like we did in the previous exercise with `Series.sample(30, random_state = 1)`, we make the generation of random numbers predictable. This is because `Series.sample()` uses a pseudorandom number generator under the hood. A pseudorandom number generator uses an initial value to generate a sequence of numbers that has properties similar to those of a sequence that is truly random. With random_state we specify that initial value used by the pseudorandom number generator\n",
    "\n",
    "If we want to generate a sequence of five numbers using a pseudorandom generator, and begin from an initial value of 1, we'll get the same five numbers no matter how many times we run the code. If we ran `wnba['Games Played'].sample(5, random_state = 1)` we'd get the same sample every time we run the code."
   ]
  },
  {
   "cell_type": "markdown",
   "metadata": {},
   "source": [
    "**Let's visualize the discrepancy between a parameter and its corresponding statistics in the case of simple random sampling.**\n",
    "\n",
    "*Using simple random sampling, take 100 samples of 10 values each from our WNBA data set, and for each sample measure the average points scored by a player during the 2016-2017 season.*"
   ]
  },
  {
   "cell_type": "code",
   "execution_count": 10,
   "metadata": {},
   "outputs": [
    {
     "name": "stderr",
     "output_type": "stream",
     "text": [
      "Matplotlib is building the font cache; this may take a moment.\n"
     ]
    }
   ],
   "source": [
    "import matplotlib.pyplot as plt\n",
    "\n",
    "wnba = pd.read_csv('wnba.csv')\n",
    "\n",
    "sample_means = []\n",
    "for s in range(100):\n",
    "    sample = wnba['PTS'].sample(10, random_state = s)\n",
    "    sample_means.append(sample.mean())"
   ]
  },
  {
   "cell_type": "markdown",
   "metadata": {},
   "source": [
    "*Display the discrepancy between the parameter of interest (the mean of the PTS column) and the statistics obtained in the previous step.*"
   ]
  },
  {
   "cell_type": "code",
   "execution_count": 12,
   "metadata": {},
   "outputs": [
    {
     "data": {
      "text/plain": [
       "<matplotlib.lines.Line2D at 0x2215c5e8dc0>"
      ]
     },
     "execution_count": 12,
     "metadata": {},
     "output_type": "execute_result"
    },
    {
     "data": {
      "image/png": "[encoded data removed]",
      "text/plain": [
       "<Figure size 432x288 with 1 Axes>"
      ]
     },
     "metadata": {
      "needs_background": "light"
     },
     "output_type": "display_data"
    }
   ],
   "source": [
    "plt.scatter([x for x in range(1,101)], sample_means)\n",
    "\n",
    "plt.axhline(wnba['PTS'].mean())"
   ]
  },
  {
   "attachments": {},
   "cell_type": "markdown",
   "metadata": {},
   "source": [
    "From the last scatter plot, we can notice that the sample means vary a lot around the population mean. With a minimum sample mean of 115 points, a maximum of 301.4, and a population mean of roughly 201.8, we can tell that the sampling error is quite large for some of the cases.\n",
    "\n",
    "![img](img/scatt.png)\n",
    "\n",
    "\n",
    "Because sample means vary a lot around the population mean, there's a good chance we get a sample that is not representative of the population:\n",
    "\n",
    "![img](img/scatt2.png)\n",
    "\n",
    "This problem can be solved by **increasing the sample size**. \n",
    "\n",
    "### The importance of sample size\n",
    "\n",
    "As we increase the sample size, the sample means vary less around the population mean, and the chances of getting an unrepresentative sample decrease.\n",
    "\n",
    "In our last exercise we took 100 samples, and each had a sample size of 10 units. This is what happens when we repeat the procedure, but increase the size of the samples:\n",
    "\n",
    "![img](img/scatts.png)\n",
    "![img](img/scatts2.png)\n",
    "\n",
    "\n",
    "We can easily see how sample means tend to vary less and less around the population mean as we increase the sample size. From this observation we can make two conclusions:\n",
    "\n",
    "- Simple random sampling is not a reliable sampling method when the sample size is small. Because sample means vary a lot around the population mean, there's a good chance we'll get an unrepresentative sample.\n",
    "- When we do simple random sampling, we should try to get a sample that is as large as possible. A large sample decreases the variability of the sampling process, which in turn decreases the chances that we'll get an unrepresentative sample.\n",
    "\n",
    "![img](img/final_scatt.png)"
   ]
  },
  {
   "cell_type": "markdown",
   "metadata": {},
   "source": [
    "## Stratified sampling\n",
    "\n",
    "Because simple random sampling is entirely random, it can leave out certain population individuals that are of great interest to some of the questions we may have.\n",
    "\n",
    "For example, players in basketball play in different positions on the court. The metrics of a player (number of points, number of assists, etc.) depend on their position, and we might want to analyze the patterns for each individual position. If we perform simple random sampling, there's a chance that some categories won't be included in our sample. In other words, it's not guaranteed that we'll have a representative sample that has observations for every position we want to analyze.\n",
    "\n",
    "There are five unique positions in our data set:"
   ]
  },
  {
   "cell_type": "code",
   "execution_count": 13,
   "metadata": {},
   "outputs": [
    {
     "name": "stdout",
     "output_type": "stream",
     "text": [
      "['F' 'G/F' 'G' 'C' 'F/C']\n"
     ]
    }
   ],
   "source": [
    "print(wnba['Pos'].unique())"
   ]
  },
  {
   "cell_type": "markdown",
   "metadata": {},
   "source": [
    "Let's decipher quickly each abbreviation:\n",
    "\n",
    "![img](img/abbrev.png)\n",
    "\n",
    "The downside of simple random sampling is that it can leave out individuals playing in a certain position on the field. Visually, and on a smaller scale, this is what could happen:\n",
    "\n",
    "![img](img/visual.png)\n",
    "\n",
    "\n",
    "To ensure we end up with a sample that has observations for all the categories of interest, we can change the sampling method. We can organize our data set into different groups, and then do simple random sampling for every group. We can **group our data set by player position, and then sample randomly from each group**.\n",
    "\n",
    "Visually, and on a smaller scale, we need to do this:\n",
    "\n",
    "![img](img/strat.png)\n",
    "\n",
    "This sampling method is called **stratified sampling**, and each stratified group is also known as a **stratum**."
   ]
  },
  {
   "cell_type": "markdown",
   "metadata": {},
   "source": [
    "*Perform stratified sampling: stratify the data set by player position, and then do simple random sampling on every stratum. At the end, use the sample to find which position has the greatest number of points per game.*"
   ]
  },
  {
   "cell_type": "code",
   "execution_count": 14,
   "metadata": {},
   "outputs": [],
   "source": [
    "# Adding new column: points per game\n",
    "\n",
    "wnba['points_per_game'] = wnba['PTS'] / wnba['Games Played']"
   ]
  },
  {
   "cell_type": "code",
   "execution_count": 15,
   "metadata": {},
   "outputs": [],
   "source": [
    "# Dataframes for each position\n",
    "forward = wnba[wnba['Pos'] == 'F']\n",
    "guard = wnba[wnba['Pos'] == 'G']\n",
    "center = wnba[wnba['Pos'] == 'C']\n",
    "guard_forward = wnba[wnba['Pos'] == 'G/F']\n",
    "forward_center = wnba[wnba['Pos'] == 'F/C']"
   ]
  },
  {
   "cell_type": "code",
   "execution_count": 16,
   "metadata": {},
   "outputs": [],
   "source": [
    "# SRS for each position and calculating the mean for each sample\n",
    "dicc = {}\n",
    "for strata in [forward, guard, center, guard_forward, forward_center]:\n",
    "    sample = strata.sample(10, random_state = 0)\n",
    "    mean_points = sample['points_per_game'].mean()\n",
    "    dicc[sample['Pos'].iloc[0]] = mean_points"
   ]
  },
  {
   "cell_type": "code",
   "execution_count": 18,
   "metadata": {},
   "outputs": [
    {
     "data": {
      "text/plain": [
       "'C'"
      ]
     },
     "execution_count": 18,
     "metadata": {},
     "output_type": "execute_result"
    }
   ],
   "source": [
    "# Finds the max \n",
    "position_most_points = max(dicc, key = dicc.get)\n",
    "position_most_points"
   ]
  },
  {
   "cell_type": "markdown",
   "metadata": {},
   "source": [
    "## Proportional stratified sampling\n",
    "\n",
    "Earlier in this mission we performed simple random sampling 100 times on the original data set, and for each sample we computed the mean number of total points a player scores in a season. The problem is that the number of total points is influenced by the number of games played, which ranges from 2 to 32:"
   ]
  },
  {
   "cell_type": "code",
   "execution_count": 19,
   "metadata": {},
   "outputs": [
    {
     "name": "stdout",
     "output_type": "stream",
     "text": [
      "2\n",
      "32\n"
     ]
    }
   ],
   "source": [
    "print(wnba['Games Played'].min())\n",
    "print(wnba['Games Played'].max())"
   ]
  },
  {
   "cell_type": "markdown",
   "metadata": {},
   "source": [
    "Approximately 72.7% of the players had more than 23 games for the 2016-2017 season, which means that the mean of the total points is probably influenced by this category of players who played a lot of games. Let's take a look at the other percentages too:"
   ]
  },
  {
   "cell_type": "code",
   "execution_count": 28,
   "metadata": {},
   "outputs": [
    {
     "data": {
      "text/plain": [
       "(22.0, 32.0]     72.727273\n",
       "(12.0, 22.0]     18.181818\n",
       "(1.969, 12.0]     9.090909\n",
       "Name: Games Played, dtype: float64"
      ]
     },
     "execution_count": 28,
     "metadata": {},
     "output_type": "execute_result"
    }
   ],
   "source": [
    "# Organize into bins and normalize as a percentage\n",
    "wnba['Games Played'].value_counts(bins = 3, normalize = True) * 100"
   ]
  },
  {
   "cell_type": "markdown",
   "metadata": {},
   "source": [
    "*As a side note on the output above, (1.969, 12.0], (12.0, 22.0] and (22.0, 32.0] are number intervals. The ( character indicates that the beginning of the interval is not included, and the ] indicates that the endpoint is included. For example, (22.0, 32.0] means that 22.0 isn't included, while 32.0 is, and the interval contains this array of numbers: [23, 24, 25, 26, 27, 28, 29, 30, 31, 32].*"
   ]
  },
  {
   "attachments": {},
   "cell_type": "markdown",
   "metadata": {},
   "source": [
    "Getting back to our discussion, when we compute the mean of the total points using the population (the entire data set), the mean will probably be signficantly influenced by those 72.7% players who played more than 23 games. However, when we sample randomly, we can end up with a sample where the proportions are different than in the population.\n",
    "\n",
    "For instance, we might end up with a sample where only 2% of the players played more than 23 games. This will result in **a sample mean which underestimates the population mean**. Or we could have a sample where more than 95% of the players had 23 games in the 2016-2017 season. This will result in **overestimating the population mean**. This scenario of under or over estimation is common for small samples.\n",
    "\n",
    "![img](img/under_over.png)\n",
    "\n",
    "One solution to this problem is to **use stratified sampling while being mindful of the proportions in the population**. **We can stratify our data set by the number of games played, and then sample randomly from each stratum a proportional number of observations.**\n",
    "\n",
    "![img](img/proportional.png)\n",
    "\n",
    "\n",
    "In the diagram above, we can see that from a population of 20 individuals:\n",
    "\n",
    "- 14 individuals played more than 22 games.\n",
    "- 4 individuals played between 13 and 22 games.\n",
    "- 2 individuals played below 13 games.\n",
    "\n",
    "Transforming these figures to percentages: \n",
    "- 70% of the individuals played more than 22 games, \n",
    "- 20% played between 13 and 22 games, \n",
    "- and 10% played below 13 games. \n",
    "\n",
    "Because we sampled proportionally, the same percentages (70%, 20%, 10%) are preserved in the sample (even though the absolute values are different): 70% played more than 22 games, 20% played between 13 and 22 games, and 10% played below 13 games."
   ]
  },
  {
   "cell_type": "markdown",
   "metadata": {},
   "source": [
    "*Perform stratified sampling on the data set 100 times, and sample strata proportionally.*\n",
    "\n",
    "*Stratify the data set by the number of games played in the following way: the first strata should be composed of players that played 12 games or less; the second of players that played more than 12 games, but up to 22 (included); and the third of players that played more than 22 games (22 not included).* "
   ]
  },
  {
   "cell_type": "code",
   "execution_count": 29,
   "metadata": {},
   "outputs": [],
   "source": [
    "strat_1 = wnba[wnba['Games Played'] <= 12]\n",
    "strat_2 = wnba[(wnba['Games Played'] > 12) & (wnba['Games Played'] <= 22)]\n",
    "strat_3 = wnba[(wnba['Games Played'] > 22)]"
   ]
  },
  {
   "cell_type": "markdown",
   "metadata": {},
   "source": [
    "*Perform stratified sampling 100 times.*"
   ]
  },
  {
   "cell_type": "code",
   "execution_count": 30,
   "metadata": {},
   "outputs": [],
   "source": [
    "mean_of_samples = []\n",
    "\n",
    "for s in range(100):\n",
    "    strat_1_sample = strat_1['PTS'].sample(1, random_state = s)\n",
    "    strat_2_sample = strat_2['PTS'].sample(2, random_state = s)\n",
    "    strat_3_sample = strat_3['PTS'].sample(7, random_state = s)\n",
    "    full_sample = pd.concat([strat_1_sample, strat_2_sample, strat_3_sample])\n",
    "    mean_of_samples.append(full_sample.mean())"
   ]
  },
  {
   "cell_type": "markdown",
   "metadata": {},
   "source": [
    "*Display the entire sampling process.*"
   ]
  },
  {
   "cell_type": "code",
   "execution_count": 31,
   "metadata": {},
   "outputs": [
    {
     "data": {
      "text/plain": [
       "<matplotlib.lines.Line2D at 0x2215c757d30>"
      ]
     },
     "execution_count": 31,
     "metadata": {},
     "output_type": "execute_result"
    },
    {
     "data": {
      "image/png": "[encoded data removed]",
      "text/plain": [
       "<Figure size 432x288 with 1 Axes>"
      ]
     },
     "metadata": {
      "needs_background": "light"
     },
     "output_type": "display_data"
    }
   ],
   "source": [
    "plt.scatter([x for x in range(1, 101)], mean_of_samples)\n",
    "plt.axhline(wnba['PTS'].mean())"
   ]
  },
  {
   "cell_type": "markdown",
   "metadata": {},
   "source": [
    "The variability of the sampling was quite large, and many sample means were unrepresentative, being far from the population mean. In fact, this sampling method doesn't seem to perform better than simple random sampling:\n",
    "\n",
    "![img](img/compare.png)\n",
    "\n",
    "The poor performance is caused by a bad choice of strata. We stratified the data by the number of games played, but this isn't a good approach. A player is considered as having played one game even if she only played for one or two minutes. But others play 30 or 40 minutes, and they're still considered as having played one game.\n",
    "\n",
    "**It makes more sense to stratify the data by number of minutes played, rather than by number of games played**. The minutes played are a much better indicator of how much a player scored in a season than the number of games played.\n",
    "\n",
    "Our data set contains the total amount of minutes a player had for the entire season. If we make strata based on minutes played, and then sample proportionally using stratified sampling, we get something visibly better than simple random sampling (especially in terms of variability):\n",
    "\n",
    "![img](img/minutes.png)\n",
    "\n",
    "We increased the sample size to 12 so that we can do a better proportional sampling for the strata organized by minutes played.\n",
    "\n",
    "\n",
    "**Here are a few guidelines for choosing good strata:**\n",
    "\n",
    "**1. Minimize the variability within each stratum.**\n",
    "\n",
    "For instance, avoid having in the same stratum a player that has scored 10 points and a player that has scored 500. If the variability is high, it might be a sign that you either need a more granular stratification (need more strata), or you need to change the criterion of stratification (an example of criterion is minutes played).\n",
    "\n",
    "**2. Maximize the variability between strata.**\n",
    "\n",
    "Good strata are different from one another. If you have strata that are similar to one another with respect to what you want to measure, you might need a more granular stratification, or to change the stratification criterion. In the previous screen, stratifying the data by games played resulted in strata that weren't too different from each other with respect to the distribution of the total points. We managed to increase the variability between strata by changing the criterion of stratification to minutes played.\n",
    "\n",
    "**3. The stratification criterion should be strongly correlated with the property you're trying to measure.**\n",
    "\n",
    "For instance, the column describing minutes played (the criterion) should be strongly correlated with the number of total points (property we want to measure). We've covered briefly the concept of correlation in the pandas courses, and we'll cover it again later in these statistics courses, so don't worry if the concept of correlation doesn't make much sense to you now.\n",
    "\n",
    "We've left the code editor open for you to try to experiment with the different sampling methods we've learned so far. One thing you can try is to replicate the last graph above. You can then play with sample sizes, and try to get insights into how variability and sampling error change."
   ]
  },
  {
   "cell_type": "code",
   "execution_count": 32,
   "metadata": {},
   "outputs": [
    {
     "data": {
      "text/plain": [
       "(347.333, 682.667]    0.349650\n",
       "(10.993, 347.333]     0.335664\n",
       "(682.667, 1018.0]     0.314685\n",
       "Name: MIN, dtype: float64"
      ]
     },
     "execution_count": 32,
     "metadata": {},
     "output_type": "execute_result"
    }
   ],
   "source": [
    "wnba['MIN'].value_counts(bins = 3, normalize = True)"
   ]
  },
  {
   "cell_type": "code",
   "execution_count": 42,
   "metadata": {},
   "outputs": [],
   "source": [
    "strat_1 = wnba[wnba['MIN'] <= 347.333]\n",
    "strat_2 = wnba[(wnba['MIN'] > 347.333) & (wnba['MIN'] <= 682.667)]\n",
    "strat_3 = wnba[(wnba['MIN'] > 682.667)]"
   ]
  },
  {
   "cell_type": "code",
   "execution_count": 44,
   "metadata": {},
   "outputs": [],
   "source": [
    "mean_of_samples = []\n",
    "\n",
    "for s in range(1,101):\n",
    "    strat_1_sample = strat_1['PTS'].sample(4, random_state = s)\n",
    "    strat_2_sample = strat_2['PTS'].sample(3, random_state = s)\n",
    "    strat_3_sample = strat_3['PTS'].sample(3, random_state = s)\n",
    "    full_sample = pd.concat([strat_1_sample, strat_2_sample, strat_3_sample])\n",
    "    mean_of_samples.append(full_sample.mean())"
   ]
  },
  {
   "cell_type": "code",
   "execution_count": 46,
   "metadata": {},
   "outputs": [
    {
     "data": {
      "text/plain": [
       "(100.0, 350.0)"
      ]
     },
     "execution_count": 46,
     "metadata": {},
     "output_type": "execute_result"
    },
    {
     "data": {
      "image/png": "[encoded data removed]",
      "text/plain": [
       "<Figure size 432x288 with 1 Axes>"
      ]
     },
     "metadata": {
      "needs_background": "light"
     },
     "output_type": "display_data"
    }
   ],
   "source": [
    "plt.scatter([x for x in range(1, 101)], mean_of_samples)\n",
    "plt.axhline(wnba['PTS'].mean())\n",
    "plt.ylim([100, 350])"
   ]
  },
  {
   "cell_type": "markdown",
   "metadata": {},
   "source": [
    "## Cluster sampling\n",
    "\n",
    "The data set we've been working with was scraped from the WNBA's website. The website centralizes data on basketball games and players in the WNBA. Let's suppose for a moment that such a site didn't exist, and the data were instead scattered across each individual team's website. There are twelve unique teams in our data set, which means we'd have to scrape twelve different websites, each requiring its own scraping script.\n",
    "\n",
    "This scenario is quite common in the data science workflow: you want to answer some questions about a population, but the data is scattered in such a way that data collection is either time-consuming or close to impossible. For instance, let's say you want to analyze how people review and rate movies as a function of movie budget. There are a lot of websites out there that can help with data collection, but how can you go about it so that you can spend one day or two on getting the data you need, rather than one month or two?\n",
    "\n",
    "One way is to list all the data sources you can find, and then randomly pick only a few of them to collect data from. Then you can sample individually each of the sources you've randomly picked. This sampling method is called cluster sampling, and each of the individual data sources is called a cluster.\n",
    "\n",
    "![img](img/cluster.png)\n",
    "\n",
    "In our case, we'd first list all the possible data sources. Assuming that all the teams in our data set have a website where we can take data from, we end up with this list of clusters (each team's website is considered a cluster) :"
   ]
  },
  {
   "cell_type": "code",
   "execution_count": 48,
   "metadata": {},
   "outputs": [
    {
     "name": "stdout",
     "output_type": "stream",
     "text": [
      "['DAL' 'LA' 'CON' 'SAN' 'MIN' 'SEA' 'PHO' 'CHI' 'WAS' 'NY' 'ATL' 'IND']\n"
     ]
    }
   ],
   "source": [
    "print(wnba['Team'].unique())"
   ]
  },
  {
   "cell_type": "markdown",
   "metadata": {},
   "source": [
    "Then we need to find a way to pick randomly a few clusters from our listing. There are many ways to do that, but the important thing to keep in mind is that we should avoid picking a cluster twice. Here's one way to sample four clusters randomly:"
   ]
  },
  {
   "cell_type": "code",
   "execution_count": 50,
   "metadata": {},
   "outputs": [
    {
     "name": "stdout",
     "output_type": "stream",
     "text": [
      "6     PHO\n",
      "11    IND\n",
      "4     MIN\n",
      "10    ATL\n",
      "dtype: object\n"
     ]
    }
   ],
   "source": [
    "print(pd.Series(wnba['Team'].unique()).sample(4, random_state = 0))"
   ]
  },
  {
   "cell_type": "markdown",
   "metadata": {},
   "source": [
    "Once we pick the clusters, we move to collecting the data. We can collect all the data from each cluster, but we can also perform sampling on each. It's actually possible to use different sampling methods for different clusters. For instance, we can use stratified sampling on the first two clusters, and simple random sampling on the other two."
   ]
  },
  {
   "cell_type": "markdown",
   "metadata": {},
   "source": [
    "Let's simulate a cluster sampling on our data set.\n",
    "\n",
    "*Pick four team clusters randomly using the technique we've learned (use random_state = 0).*"
   ]
  },
  {
   "cell_type": "code",
   "execution_count": 52,
   "metadata": {},
   "outputs": [
    {
     "data": {
      "text/plain": [
       "6     PHO\n",
       "11    IND\n",
       "4     MIN\n",
       "10    ATL\n",
       "dtype: object"
      ]
     },
     "execution_count": 52,
     "metadata": {},
     "output_type": "execute_result"
    }
   ],
   "source": [
    "clusters = pd.Series(wnba['Team'].unique()).sample(4, random_state = 0)\n",
    "clusters\n",
    "#print(clusters.values)"
   ]
  },
  {
   "cell_type": "markdown",
   "metadata": {},
   "source": [
    "*Collect the data from each cluster without sampling the clusters. Create a new DataFrame object that stores the data collected from all clusters.*"
   ]
  },
  {
   "cell_type": "code",
   "execution_count": 54,
   "metadata": {},
   "outputs": [
    {
     "data": {
      "text/html": [
       "<div>\n",
       "<style scoped>\n",
       "    .dataframe tbody tr th:only-of-type {\n",
       "        vertical-align: middle;\n",
       "    }\n",
       "\n",
       "    .dataframe tbody tr th {\n",
       "        vertical-align: top;\n",
       "    }\n",
       "\n",
       "    .dataframe thead th {\n",
       "        text-align: right;\n",
       "    }\n",
       "</style>\n",
       "<table border=\"1\" class=\"dataframe\">\n",
       "  <thead>\n",
       "    <tr style=\"text-align: right;\">\n",
       "      <th></th>\n",
       "      <th>Name</th>\n",
       "      <th>Team</th>\n",
       "      <th>Pos</th>\n",
       "      <th>Height</th>\n",
       "      <th>Weight</th>\n",
       "      <th>BMI</th>\n",
       "      <th>Birth_Place</th>\n",
       "      <th>Birthdate</th>\n",
       "      <th>Age</th>\n",
       "      <th>College</th>\n",
       "      <th>...</th>\n",
       "      <th>DREB</th>\n",
       "      <th>REB</th>\n",
       "      <th>AST</th>\n",
       "      <th>STL</th>\n",
       "      <th>BLK</th>\n",
       "      <th>TO</th>\n",
       "      <th>PTS</th>\n",
       "      <th>DD2</th>\n",
       "      <th>TD3</th>\n",
       "      <th>points_per_game</th>\n",
       "    </tr>\n",
       "  </thead>\n",
       "  <tbody>\n",
       "    <tr>\n",
       "      <th>4</th>\n",
       "      <td>Alexis Jones</td>\n",
       "      <td>MIN</td>\n",
       "      <td>G</td>\n",
       "      <td>175</td>\n",
       "      <td>78.0</td>\n",
       "      <td>25.469388</td>\n",
       "      <td>US</td>\n",
       "      <td>August 5, 1994</td>\n",
       "      <td>23</td>\n",
       "      <td>Baylor</td>\n",
       "      <td>...</td>\n",
       "      <td>9</td>\n",
       "      <td>12</td>\n",
       "      <td>12</td>\n",
       "      <td>7</td>\n",
       "      <td>0</td>\n",
       "      <td>14</td>\n",
       "      <td>50</td>\n",
       "      <td>0</td>\n",
       "      <td>0</td>\n",
       "      <td>2.083333</td>\n",
       "    </tr>\n",
       "    <tr>\n",
       "      <th>6</th>\n",
       "      <td>Alexis Prince</td>\n",
       "      <td>PHO</td>\n",
       "      <td>G</td>\n",
       "      <td>188</td>\n",
       "      <td>81.0</td>\n",
       "      <td>22.917610</td>\n",
       "      <td>US</td>\n",
       "      <td>February 5, 1994</td>\n",
       "      <td>23</td>\n",
       "      <td>Baylor</td>\n",
       "      <td>...</td>\n",
       "      <td>14</td>\n",
       "      <td>15</td>\n",
       "      <td>5</td>\n",
       "      <td>4</td>\n",
       "      <td>3</td>\n",
       "      <td>3</td>\n",
       "      <td>24</td>\n",
       "      <td>0</td>\n",
       "      <td>0</td>\n",
       "      <td>1.500000</td>\n",
       "    </tr>\n",
       "    <tr>\n",
       "      <th>14</th>\n",
       "      <td>Aneika Henry</td>\n",
       "      <td>ATL</td>\n",
       "      <td>F/C</td>\n",
       "      <td>193</td>\n",
       "      <td>87.0</td>\n",
       "      <td>23.356332</td>\n",
       "      <td>JM</td>\n",
       "      <td>February 13, 1986</td>\n",
       "      <td>31</td>\n",
       "      <td>Florida</td>\n",
       "      <td>...</td>\n",
       "      <td>4</td>\n",
       "      <td>4</td>\n",
       "      <td>1</td>\n",
       "      <td>2</td>\n",
       "      <td>0</td>\n",
       "      <td>3</td>\n",
       "      <td>8</td>\n",
       "      <td>0</td>\n",
       "      <td>0</td>\n",
       "      <td>2.000000</td>\n",
       "    </tr>\n",
       "    <tr>\n",
       "      <th>15</th>\n",
       "      <td>Angel Robinson</td>\n",
       "      <td>PHO</td>\n",
       "      <td>F/C</td>\n",
       "      <td>198</td>\n",
       "      <td>88.0</td>\n",
       "      <td>22.446689</td>\n",
       "      <td>US</td>\n",
       "      <td>August 30, 1995</td>\n",
       "      <td>21</td>\n",
       "      <td>Arizona State</td>\n",
       "      <td>...</td>\n",
       "      <td>42</td>\n",
       "      <td>58</td>\n",
       "      <td>8</td>\n",
       "      <td>1</td>\n",
       "      <td>11</td>\n",
       "      <td>16</td>\n",
       "      <td>58</td>\n",
       "      <td>0</td>\n",
       "      <td>0</td>\n",
       "      <td>3.866667</td>\n",
       "    </tr>\n",
       "    <tr>\n",
       "      <th>21</th>\n",
       "      <td>Bria Holmes</td>\n",
       "      <td>ATL</td>\n",
       "      <td>G</td>\n",
       "      <td>185</td>\n",
       "      <td>77.0</td>\n",
       "      <td>22.498174</td>\n",
       "      <td>US</td>\n",
       "      <td>April 19, 1994</td>\n",
       "      <td>23</td>\n",
       "      <td>West Virginia</td>\n",
       "      <td>...</td>\n",
       "      <td>56</td>\n",
       "      <td>85</td>\n",
       "      <td>52</td>\n",
       "      <td>23</td>\n",
       "      <td>7</td>\n",
       "      <td>31</td>\n",
       "      <td>235</td>\n",
       "      <td>0</td>\n",
       "      <td>0</td>\n",
       "      <td>8.392857</td>\n",
       "    </tr>\n",
       "  </tbody>\n",
       "</table>\n",
       "<p>5 rows × 33 columns</p>\n",
       "</div>"
      ],
      "text/plain": [
       "              Name Team  Pos  Height  Weight        BMI Birth_Place  \\\n",
       "4     Alexis Jones  MIN    G     175    78.0  25.469388          US   \n",
       "6    Alexis Prince  PHO    G     188    81.0  22.917610          US   \n",
       "14    Aneika Henry  ATL  F/C     193    87.0  23.356332          JM   \n",
       "15  Angel Robinson  PHO  F/C     198    88.0  22.446689          US   \n",
       "21     Bria Holmes  ATL    G     185    77.0  22.498174          US   \n",
       "\n",
       "            Birthdate  Age        College  ... DREB  REB  AST  STL  BLK  TO  \\\n",
       "4      August 5, 1994   23         Baylor  ...    9   12   12    7    0  14   \n",
       "6    February 5, 1994   23         Baylor  ...   14   15    5    4    3   3   \n",
       "14  February 13, 1986   31        Florida  ...    4    4    1    2    0   3   \n",
       "15    August 30, 1995   21  Arizona State  ...   42   58    8    1   11  16   \n",
       "21     April 19, 1994   23  West Virginia  ...   56   85   52   23    7  31   \n",
       "\n",
       "    PTS  DD2  TD3  points_per_game  \n",
       "4    50    0    0         2.083333  \n",
       "6    24    0    0         1.500000  \n",
       "14    8    0    0         2.000000  \n",
       "15   58    0    0         3.866667  \n",
       "21  235    0    0         8.392857  \n",
       "\n",
       "[5 rows x 33 columns]"
      ]
     },
     "execution_count": 54,
     "metadata": {},
     "output_type": "execute_result"
    }
   ],
   "source": [
    "cluster_data = wnba[wnba['Team'].isin(clusters.values)]\n",
    "cluster_data.head()"
   ]
  },
  {
   "cell_type": "markdown",
   "metadata": {},
   "source": [
    "- *Use the data collected to estimate the mean for the following player attributes:*\n",
    "    - Height;\n",
    "    - Age;\n",
    "    - BMI;\n",
    "    - Total points."
   ]
  },
  {
   "cell_type": "code",
   "execution_count": 55,
   "metadata": {},
   "outputs": [],
   "source": [
    "Height = cluster_data['Height'].mean()\n",
    "Age = cluster_data['Age'].mean()\n",
    "BMI = cluster_data['BMI'].mean()\n",
    "Total_points = cluster_data['PTS'].mean()"
   ]
  },
  {
   "cell_type": "markdown",
   "metadata": {},
   "source": [
    "- *Finally, measure the sampling error of your estimates.*"
   ]
  },
  {
   "cell_type": "code",
   "execution_count": 57,
   "metadata": {},
   "outputs": [
    {
     "name": "stdout",
     "output_type": "stream",
     "text": [
      "-0.06400121617511445 -1.401337792642142 0.23095444165950596 -27.79674673152934\n"
     ]
    }
   ],
   "source": [
    "sampling_error_height = wnba['Height'].mean() - Height\n",
    "sampling_error_age = wnba['Age'].mean() - Age\n",
    "sampling_error_BMI = wnba['BMI'].mean() - BMI\n",
    "sampling_error_points = wnba['PTS'].mean() - Total_points\n",
    "\n",
    "print(sampling_error_height, sampling_error_age, sampling_error_BMI, sampling_error_points)"
   ]
  },
  {
   "cell_type": "markdown",
   "metadata": {},
   "source": [
    "## Sampling in data science practice\n",
    "\n",
    "So far, we've explored a few scenarios where sampling can be useful. There are more situations, however, where a data scientist can use sampling, and we discuss a few in this section.\n",
    "\n",
    "Let's say you work for an e-commerce company that has a table in a database with more than 10 million rows of online transactions. The marketing team asks you to analyze the data and find categories of customers with a low buying rate, so that they can target their marketing campaigns at the right people. Instead of working with more than 10 million rows at each step of your analysis, you can save a lot of code running time by sampling several hundred rows, and perform your analysis on the sample. You can do a simple random sampling, but if you're interested in some categories beforehand, it might be a good idea to use stratified sampling.\n",
    "\n",
    "Let's consider a different situation. It could be that you need to collect data from an API that either has a usage limit, or is not free. In this case, you are more or less forced to sample. Knowing how and what to sample can be of great use.\n",
    "\n",
    "Another common use case of sampling is when the data is scattered across different locations (different websites, different databases, different companies, etc.). As we've discussed in the previous screen, cluster sampling would be a great choice in such a scenario.\n",
    "\n",
    "Sampling is a vast topic in statistics, and there are other sampling methods besides what we've discussed so far in our course. Here's a good starting point to read about other potentially useful sampling methods."
   ]
  },
  {
   "cell_type": "markdown",
   "metadata": {},
   "source": [
    "## Descriptive and Inferential statistics\n",
    "\n",
    "Practical statistical analysis revolves entirely around the distinction between a population and a sample. When we're doing statistics in practice, our goal is either to describe a sample or a population, or to use a sample to draw conclusions about the population to which it belongs (or a mix of these two goals).\n",
    "\n",
    "When we **describe** a sample or a population (by measuring averages, proportions, and other metrics; by visualizing properties of the data through graphs; etc.), we do **descriptive statistics**.\n",
    "\n",
    "When we try to use a sample to **draw conclusions** about a population, we do **inferential statistics** (we infer information from the sample about the population).\n",
    "\n",
    "![img](img/descriptive.png)\n",
    "\n"
   ]
  }
 ],
 "metadata": {
  "kernelspec": {
   "display_name": "Python 3",
   "language": "python",
   "name": "python3"
  },
  "language_info": {
   "codemirror_mode": {
    "name": "ipython",
    "version": 3
   },
   "file_extension": ".py",
   "mimetype": "text/x-python",
   "name": "python",
   "nbconvert_exporter": "python",
   "pygments_lexer": "ipython3",
   "version": "3.8.5"
  }
 },
 "nbformat": 4,
 "nbformat_minor": 4
}
