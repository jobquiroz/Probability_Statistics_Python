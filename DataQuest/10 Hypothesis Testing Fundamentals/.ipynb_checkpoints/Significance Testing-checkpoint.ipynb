{
 "cells": [
  {
   "cell_type": "markdown",
   "id": "formal-minneapolis",
   "metadata": {},
   "source": [
    "## Introduction\n",
    "\n",
    "In this lesson, we'll learn about hypothesis testing and statistical significance. A hypothesis is a pattern or rule about a process that we can test. We use hypothesis testing to determine if a change we made had a meaningful impact or not.\n",
    "\n",
    "You can use hypothesis testing to help you determine the following:\n",
    "\n",
    "- If a new banner ad on a website caused a drop in the user engagement\n",
    "- If raising the price of a product caused a drop in sales\n",
    "- If a new weight loss pill helped people lose more weight\n",
    "\n",
    "Observing a decrease in user engagement or sales after instituting a change doesn't automatically mean that the change was the cause. **Hypothesis testing allows us to calculate the probability that random chance was responsible for the difference in outcome**. Every process has some **inherent** amount of randomness that we can't measure and understanding the role of chance helps us reach a more likely conclusion.\n",
    "\n",
    "Let's begin with a **null hypothesis** that describes the *status quo*, then state an **alternative hypothesis**. We use the alternate hypothesis in comparison with the null hypothesis to decide which describes the data better. In the end, we need to do one of the folllowing:\n",
    "\n",
    "- Reject the null hypothesis\n",
    "- Fail to reject the null hypothesis\n",
    "\n",
    "We can frame each of the studies above as these rival pairs of hypotheses:\n",
    "\n",
    "- If a new banner ad on a website caused a drop in user engagement:\n",
    "    - Null hypothesis: Users who saw the banner ad spent the same amount of time on the website as those who didn't.\n",
    "    - Alternative hypothesis: Users who saw the banner ad spent less time on the website than those who didn't.\n",
    "    \n",
    "- If raising the price of a product caused a drop in sales:\n",
    "    - Null hypothesis: the number of purchases was the same at the lower price as it was at the higher price.\n",
    "    - Alternative hypothesis: The number of purchases was lower at the higher price than it was at the lower price.\n",
    "    \n",
    "- If a new weight loss pill helped people lose more weight:\n",
    "    - Null hypothesis: Patients who went on the weight loss pill didn't lose any additional weight compared to those who did not take the pill.\n",
    "    - Alternative hypothesis: Patients who went on the weight loss pill lost more weight than those who didn't.\n",
    "    \n",
    "    \n",
    "Let's focus on the third scenario and use data to determine if a weight loss pill helped people lose weight."
   ]
  },
  {
   "cell_type": "markdown",
   "id": "directed-billy",
   "metadata": {},
   "source": [
    "## Research design\n",
    "\n",
    "To help us determine if the weight loss pill was effective, we conducted a study with 100 volunteers and split them into two groups randomly:\n",
    "\n",
    "- Group A received a placebo to consume on a daily basis.\n",
    "- Group B received the actual weight loss pill to consume on a daily basis.\n",
    "\n",
    "Both groups received instructions not to change anything else about their diets. Group A is referred to as the control group while group B is referred to as the treatment group. This type of study is called a blind experiment since the participants didn't know which pill they were receiving. This helps us reduce the potential bias that is introduced when participants know which pill they were given. For example, participants who are aware they are given the weight loss pill may try to add healthier foods to their diet to help them lose more weight. Both groups were weighed before the study began and a month after the study ended.\n",
    "\n",
    "Understanding the **research design** for a study is an important first step that impacts the rest of your analysis. It helps us uncover potential flaws in the study that we need to keep in mind as we dive deeper. The weight loss pill study we conducted is known as an **experimental study**. Experimental studies usually involve bringing in participants, instructing them to perform certain tasks, and observing them. A key part of running an experimental study is random assignment, which involves assigning participants in the study to random groups without revealing which group each participant is assigned. Before exploring and analyzing a dataset, it's important to understand how the study was conducted. Flaws within the study can lead you to the wrong conclusions."
   ]
  },
  {
   "cell_type": "markdown",
   "id": "undefined-start",
   "metadata": {},
   "source": [
    "## Statistical significance\n",
    "\n",
    "Statistics helps determine if the difference in the weight lost is because of random chance or an actual difference in the outcomes. *If* there is a meaningful difference, we say that the results are **statistically significant**. We'll dive into what this means over the course of this mission.\n",
    "\n",
    "Now that we're familiar with the study, let's state our null and alternative hypotheses more precisely. **Our null hypothesis should describe the default position of skepticism**, which is that there's **no statistically significant difference** between the outcomes of the 2 groups. Ultimately, it should state that any difference is due to random chance. **Our alternative hypothesis should state that there is in fact a statistically significant difference between the outcomes of the 2 groups.**\n",
    "\n",
    "- *Null hypothesis*: participants who consumed the weight loss pills lost the same amount of weight as those who didn't take the pill.\n",
    "- *Alternative hypothesis*: participants who consumed the weight loss pills lost more weight than those who didn't take the pill.\n",
    "\n",
    "The *lists* `weight_lost_a` and `weight_lost_b` contain the amount of weight (in pounds) that the participants in each group lost. Let's explore and become more familiar with the data."
   ]
  },
  {
   "cell_type": "code",
   "execution_count": 3,
   "id": "reliable-discrimination",
   "metadata": {},
   "outputs": [],
   "source": [
    "import numpy as np\n",
    "import pandas as pd\n",
    "import matplotlib.pyplot as plt"
   ]
  },
  {
   "cell_type": "code",
   "execution_count": 8,
   "id": "worthy-software",
   "metadata": {},
   "outputs": [],
   "source": [
    "data = pd.read_csv('weight_loss.csv')\n",
    "\n",
    "weight_lost_a = data['3'].values\n",
    "weight_lost_b = data['5'].values"
   ]
  },
  {
   "cell_type": "code",
   "execution_count": 10,
   "id": "realistic-herald",
   "metadata": {},
   "outputs": [
    {
     "name": "stdout",
     "output_type": "stream",
     "text": [
      "2.816326530612245\n",
      "5.346938775510204\n"
     ]
    }
   ],
   "source": [
    "# Mean\n",
    "mean_group_a = weight_lost_a.mean()\n",
    "print(mean_group_a)\n",
    "mean_group_b = weight_lost_b.mean()\n",
    "print(mean_group_b)"
   ]
  },
  {
   "cell_type": "markdown",
   "id": "composed-trailer",
   "metadata": {},
   "source": [
    "### Test statistic\n",
    "\n",
    "To determine which hypothesis accurately describes the data, we need to frame the hypotheses quantitatively. The first step is to decide a **test statistic**, which is a numerical value that summarizes the data and one we can use in statistical formulas. The test statistic runs a statistical test that determines whether the difference between the groups was due to random chance.\n",
    "\n",
    "Since we want to know if the amount of weight lost between the groups is significantly different, **we will use the difference in the means** (also known as the mean difference) of weight lost for each group as the test statistic.\n",
    "\n",
    "The following symbol is used to represent the sample mean in statistics:\n",
    "\n",
    "$$\\bar{x}$$\n",
    "\n",
    "We'll use $\\bar{x_a}$ to denote the mean of group A and $\\bar{x_b}$ to denote the mean group B. For the mean difference, we'll substract the man of group A from group B:\n",
    "\n",
    "$$\\bar{x_b} - \\bar{x_a}$$\n",
    "\n",
    "Now that we have decided on a test statistic, we can rewrite our hypotheses to be more precise:\n",
    "\n",
    "**Null hypothesis:** $\\bar{x_b} - \\bar{x_a} = 0$\n",
    "\n",
    "**Alternative hypothesis:**  $\\bar{x_b} - \\bar{x_a} > 0$\n",
    "\n",
    "Note that while we've stated our hypotheses as equations, we're not simply calculating the difference and matching the result to hypothesis. We're instead using a statistical test to determine which of these statements better describes the data."
   ]
  },
  {
   "cell_type": "markdown",
   "id": "impaired-prisoner",
   "metadata": {},
   "source": [
    "- Calculate the observed test statistic by subtracting mean_group_a from mean_group_b and assign to mean_difference.\n",
    "- Display mean_difference using the print() function."
   ]
  },
  {
   "cell_type": "code",
   "execution_count": 11,
   "id": "public-melbourne",
   "metadata": {},
   "outputs": [
    {
     "name": "stdout",
     "output_type": "stream",
     "text": [
      "2.5306122448979593\n"
     ]
    }
   ],
   "source": [
    "mean_difference = mean_group_b - mean_group_a \n",
    "print(mean_difference)"
   ]
  },
  {
   "cell_type": "markdown",
   "id": "illegal-nicholas",
   "metadata": {},
   "source": [
    "## Permutation test\n",
    "\n",
    "Now that we have a test statistic, we need to decide on a **statistical test**. The purpose of a statistical test is to work out the likelihood that the result we achieved was due to random chance.\n",
    "\n",
    "The **permutation test** involves rerunning the study many times and recalculating the test statistic for each iteration. The goal is to calculate a distribution of the test statistics over these many iterations. This distribution is called the **sampling distribution** and it approximates the full range of possible test statistics under the null hypothesis. We can then benchmark the test statistic we observed in the data (a mean difference of 2.52) to determine **how likely** it is to observe this mean difference under the null hypothesis. **If the null hypothesis is true**, that the weight loss pill doesn't help people lose more weight, then **the observed mean difference of 2.52 should be quite common** in the sampling distribution. If it's instead extremely rare, then we should reject the null hypothesis instead.\n",
    "\n",
    "To simulate rerunning the study, we randomly reassign each data point (weight lost) to either group A or group B. We keep track of the recalculated test statistics as a separate list. By re-randomizing the groups that the weight loss values belong to, we're simulating what randomly generated groupings of these weight loss values would look like. We then use these randomly generated groupings to understand how rare the groupings in our actual data were.\n",
    "\n",
    "Ideally, the number of times we re-randomize the groups that each data point belongs to matches the total number of possible permutations. Usually, the number of total permutations is too high for even powerful supercomputers to calculate within a reasonable time frame. While we'll use 1000 iterations for now, in later missions we'll learn how to quantify the tradeoff we make between accuracy and speed to determine the optimal number of iterations.\n",
    "\n",
    "Since we'll be randomizing the groups each value belongs to, we created a list named all_values that contains just the weight loss values."
   ]
  },
  {
   "cell_type": "code",
   "execution_count": 12,
   "id": "painted-logistics",
   "metadata": {},
   "outputs": [],
   "source": [
    "all_values = np.append(weight_lost_a, weight_lost_b) "
   ]
  },
  {
   "cell_type": "code",
   "execution_count": 42,
   "id": "possible-compound",
   "metadata": {},
   "outputs": [
    {
     "data": {
      "text/plain": [
       "array([ 2,  3,  4,  3,  2,  2,  2,  1,  3,  2,  3,  1,  3,  4,  1,  3,  2,\n",
       "        1,  3,  4,  3,  2,  3,  7,  2,  3,  2,  5,  1,  1,  1,  3,  2,  4,\n",
       "       10,  2,  3,  2,  5,  6,  2,  3,  2,  3,  4,  1,  3,  3,  1],\n",
       "      dtype=int64)"
      ]
     },
     "execution_count": 42,
     "metadata": {},
     "output_type": "execute_result"
    }
   ],
   "source": [
    "weight_lost_a"
   ]
  },
  {
   "cell_type": "code",
   "execution_count": 41,
   "id": "announced-movie",
   "metadata": {},
   "outputs": [
    {
     "data": {
      "text/plain": [
       "array([ 2,  3,  4,  3,  2,  2,  2,  1,  3,  2,  3,  1,  3,  4,  1,  3,  2,\n",
       "        1,  3,  4,  3,  2,  3,  7,  2,  3,  2,  5,  1,  1,  1,  3,  2,  4,\n",
       "       10,  2,  3,  2,  5,  6,  2,  3,  2,  3,  4,  1,  3,  3,  1,  4,  5,\n",
       "        5,  4,  5,  7,  5,  4,  3,  3,  5, 10,  3,  4,  9,  7,  6,  9,  4,\n",
       "        2,  5,  7,  7,  7,  5,  4,  8,  9,  6,  7,  6,  7,  6,  3,  5,  5,\n",
       "        4,  2,  3,  3,  5,  6,  9,  7,  6,  4,  5,  4,  3], dtype=int64)"
      ]
     },
     "execution_count": 41,
     "metadata": {},
     "output_type": "execute_result"
    }
   ],
   "source": [
    "all_values"
   ]
  },
  {
   "cell_type": "code",
   "execution_count": 47,
   "id": "scientific-omaha",
   "metadata": {},
   "outputs": [
    {
     "data": {
      "text/plain": [
       "(array([  1.,   8.,  33.,  94., 186., 224., 237., 140.,  62.,  15.]),\n",
       " array([-1.66973244, -1.38486183, -1.09999121, -0.81512059, -0.53024998,\n",
       "        -0.24537936,  0.03949125,  0.32436187,  0.60923249,  0.8941031 ,\n",
       "         1.17897372]),\n",
       " <BarContainer object of 10 artists>)"
      ]
     },
     "execution_count": 47,
     "metadata": {},
     "output_type": "execute_result"
    },
    {
     "data": {
      "image/png": "[encoded data removed]",
      "text/plain": [
       "<Figure size 432x288 with 1 Axes>"
      ]
     },
     "metadata": {
      "needs_background": "light"
     },
     "output_type": "display_data"
    }
   ],
   "source": [
    "mean_differences = []\n",
    "\n",
    "for i in range(1000):\n",
    "    group_a = []\n",
    "    group_b = []\n",
    "    for x in all_values:\n",
    "        if np.random.rand() >= 0.5:\n",
    "            group_a.append(x)\n",
    "        else:\n",
    "            group_b.append(x)\n",
    "    \n",
    "    iteration_mean_difference = np.array(group_b).mean() - np.array(group_a).mean()\n",
    "    mean_differences.append(iteration_mean_difference)\n",
    "    \n",
    "plt.hist(mean_differences)"
   ]
  },
  {
   "cell_type": "markdown",
   "id": "understood-hobby",
   "metadata": {},
   "source": [
    "## Sampling distribution\n",
    "\n",
    "By randomly assigning participants to group A or group B, we account for the effect of random chance. Someone in group B who just happened to lose more weight (but not because of the pills) makes the results look better than they were. By creating many permutations, we're able to see all possible configurations of this error. Creating a histogram enables us to see how likely different values of our test statistic are if we repeated our experiment many times.\n",
    "\n",
    "The histogram we generated in the previous step using Matplotlib is a visual representation of the sampling distribution. Let's now create a dictionary that contains the values in the sampling distribution so we can benchmark our observed test statistic against it.\n",
    "\n",
    "The keys in the dictionary should be the test statistic and the values should be their frequency:\n",
    "\n",
    "```\n",
    "{\n",
    "    0.34943639291465356: 3,\n",
    "    -0.55702280912364888: 2, \n",
    "    -0.14942528735632177: 1\n",
    "    ....\n",
    "}\n",
    "```\n",
    "\n",
    "First we need to count how frequently each value in the list, mean_differences, occurs. As we loop over mean_differences, we need a way to check if the test statistic is already in our dictionary:\n",
    "\n",
    "- If it is, we look up the value at that key, add 1 to it, and assign the new value to the key.\n",
    "- If it isn't, we add the key to the dictionary and assign the value 1 to it.\n",
    "\n",
    "We'll dive more into how to accomplish this in the next step."
   ]
  },
  {
   "cell_type": "markdown",
   "id": "harmful-requirement",
   "metadata": {},
   "source": [
    "### Dictionary representation of a distribution\n",
    "\n",
    "To check if a key exists in a *dictionary*, we need to use the get() method to:\n",
    "\n",
    "- return the value at the specified key if it exists in the dictionary or\n",
    "- return another value we specify instead.\n",
    "\n",
    "Here are the parameters the method takes in:\n",
    "\n",
    "- The **required parameter** is the key we want to look up.\n",
    "- The **optional parameter** is the default value we want returned if the key is not found.\n",
    "\n",
    "In the following code block, we use the get method and set the default value to False:"
   ]
  },
  {
   "cell_type": "code",
   "execution_count": 50,
   "id": "novel-music",
   "metadata": {},
   "outputs": [
    {
     "data": {
      "text/plain": [
       "False"
      ]
     },
     "execution_count": 50,
     "metadata": {},
     "output_type": "execute_result"
    }
   ],
   "source": [
    "empty = {}\n",
    "\n",
    "# Since \"a\" isn't a key in empty, the value False is returned.\n",
    "key_a = empty.get(\"a\", False)\n",
    "key_a "
   ]
  },
  {
   "cell_type": "code",
   "execution_count": 51,
   "id": "southern-organization",
   "metadata": {},
   "outputs": [
    {
     "data": {
      "text/plain": [
       "'boat'"
      ]
     },
     "execution_count": 51,
     "metadata": {},
     "output_type": "execute_result"
    }
   ],
   "source": [
    "empty[\"b\"] = \"boat\"\n",
    "\n",
    "# key_b is the value for the key \"b\" in empty.\n",
    "key_b = empty.get(\"b\", False)\n",
    "key_b\n",
    "# \"boat\" is assigned to key_b."
   ]
  },
  {
   "cell_type": "markdown",
   "id": "bacterial-program",
   "metadata": {},
   "source": [
    "We can use the value returned from the get() method in an if statement to express our logic:"
   ]
  },
  {
   "cell_type": "code",
   "execution_count": 52,
   "id": "growing-advocate",
   "metadata": {},
   "outputs": [],
   "source": [
    "empty = {\"c\": 1}\n",
    "\n",
    "if empty.get(\"c\", False):\n",
    "    # If in the dictionary, grab the value, increment by 1, reassign.\n",
    "    val = empty.get(\"c\")\n",
    "    inc = val + 1\n",
    "    empty[\"c\"] = inc\n",
    "else:\n",
    "    # If not in the dictionary, assign `1` as the value to that key.\n",
    "    empty[\"c\"] = 1"
   ]
  },
  {
   "cell_type": "markdown",
   "id": "touched-event",
   "metadata": {},
   "source": [
    "*Create an empty dictionary called sampling_distribution whose keys will be the test statistics and whose values are the frequencies of the test statistics.*"
   ]
  },
  {
   "cell_type": "code",
   "execution_count": 53,
   "id": "stretch-moisture",
   "metadata": {},
   "outputs": [],
   "source": [
    "sampling_distribution = {}\n",
    "\n",
    "for x in mean_differences:\n",
    "    if sampling_distribution.get(x, False):\n",
    "        sampling_distribution[x] += 1\n",
    "    else:\n",
    "        sampling_distribution[x] = 1"
   ]
  },
  {
   "cell_type": "markdown",
   "id": "inclusive-literature",
   "metadata": {},
   "source": [
    "### P Value\n",
    "\n",
    "In the sampling distribution we generated, most of the values are closely centered around the mean difference of 0. This means that if it were purely up to chance, both groups would have lost the same amount of weight (the null hypothesis). But since the observed test statistic is not near 0, it could mean that the weight loss pills could be responsible for the mean difference in the study.\n",
    "\n",
    "We can now use the sampling distribution to determine the number of times a value of `2.52` or higher appeared in our simulations. If we divide that frequency by 1000, we'll have the probability of observing a mean difference of `2.52` or higher purely due to random chance.\n",
    "\n",
    "This probability is called the **p value**. If this value is high, it means that the difference in the amount of weight both groups lost could have easily happened randomly and the weight loss pills probably didn't play a role. On the other hand, a **low p value** implies that there's an incredibly small probability that the mean difference we observed was because of random chance.\n",
    "\n",
    "In general, it's good practice to set the **p value threshold** *before* conducting the study:\n",
    "\n",
    "- If the p value is less than the threshold, we:\n",
    "\n",
    "    - reject the null hypothesis that there's no difference in the mean amount of weight lost by participants in both groups; and\n",
    "    - conclude that **there is some evidence** that the weight loss pill does affect the amount of weight people lost.\n",
    "    \n",
    "- If the p value is greater than the threshold, we:\n",
    "\n",
    "    - fail to reject the null hypothesis that there's no difference in the mean amount of weight lost by participants in both groups,\n",
    "    - conclude that the weight loss pill doesn't seem to be effective in helping people lose weight.\n",
    "    \n",
    "The most common p value threshold is `0.05` or 5%, which is what we'll use in this mission. Although .05 is an arbitrary threshold, it means that there's only a 5% chance that the results are due to random chance, which most researchers are comfortable with."
   ]
  },
  {
   "cell_type": "markdown",
   "id": "threatened-birthday",
   "metadata": {},
   "source": [
    "### Exercise"
   ]
  },
  {
   "cell_type": "code",
   "execution_count": 57,
   "id": "sublime-greensboro",
   "metadata": {},
   "outputs": [
    {
     "data": {
      "text/plain": [
       "0.0"
      ]
     },
     "execution_count": 57,
     "metadata": {},
     "output_type": "execute_result"
    }
   ],
   "source": [
    "frequencies = []\n",
    "\n",
    "for k in sampling_distribution.keys():\n",
    "    if k > 2.52:\n",
    "        frequencies.append(sampling_distribution[k])\n",
    "\n",
    "p_value = np.array(frequencies).sum() / 1000\n",
    "p_value"
   ]
  },
  {
   "cell_type": "markdown",
   "id": "tribal-century",
   "metadata": {},
   "source": [
    "### Caveats\n",
    "\n",
    "Since the p value of `0` is less than the threshold we set of 0.05, we conclude that **the difference in weight lost can't be attributed to random chance alone**. We therefore **reject the null hypothesis**. A few caveats:\n",
    "\n",
    "- Research design is incredibly important and can lead to inaccurate results. For example, if the participants in group A realized they were given placebo sugar pills, they may modify their behavior and affect the outcome.\n",
    "- The p value threshold you set can also affect the conclusion you reach.\n",
    "    - If you set too high of a p value threshold, you may reject the null hypothesis incorrectly. This is known as a **type I error**.\n",
    "    - If you set too low of a p value threshold, you may fail to reject the null hypothesis incorrectly. This is known as a **type II error**."
   ]
  }
 ],
 "metadata": {
  "kernelspec": {
   "display_name": "Python 3",
   "language": "python",
   "name": "python3"
  },
  "language_info": {
   "codemirror_mode": {
    "name": "ipython",
    "version": 3
   },
   "file_extension": ".py",
   "mimetype": "text/x-python",
   "name": "python",
   "nbconvert_exporter": "python",
   "pygments_lexer": "ipython3",
   "version": "3.8.5"
  }
 },
 "nbformat": 4,
 "nbformat_minor": 5
}
