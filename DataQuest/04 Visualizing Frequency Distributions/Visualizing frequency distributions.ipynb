{
 "cells": [
  {
   "cell_type": "markdown",
   "metadata": {},
   "source": [
    "# Visualizing frequecy distributions\n",
    "\n",
    "\n",
    "To find patterns in a frequency table we have to look up the frequency of each unique value or class interval and at the same time compare the frequencies. This process can get time consuming for tables with many unique values or class intervals, or when the frequency values are large and hard to compare against each other.\n",
    "\n",
    "We can solve this problem by visualizing the data in the tables with the help of graphs. Graphs make it much easier to scan and compare frequencies, providing us with a single picture of the entire distribution of a variable.\n",
    "\n",
    "Because they are easy to grasp and also eye-catching, graphs are a better choice over frequency tables if we need to present our findings to a non-technical audience.\n",
    "\n",
    "In this mission, we'll learn about three kinds of graphs:\n",
    "\n",
    "- Bar plots.\n",
    "- Pie charts.\n",
    "- Histograms.\n",
    "\n",
    "By the end of the mission, we'll know how to generate the graphs below and when it makes sense to use each:\n",
    "\n",
    "![img](img/charts.png)\n"
   ]
  },
  {
   "cell_type": "code",
   "execution_count": 1,
   "metadata": {},
   "outputs": [],
   "source": [
    "import pandas as pd\n",
    "\n",
    "wnba = pd.read_csv('wnba.csv')"
   ]
  },
  {
   "cell_type": "markdown",
   "metadata": {},
   "source": [
    "## Bar plots\n",
    "\n",
    "For variables measured on a nominal or an ordinal scale it's common to use a bar plot to visualize their distribution. To generate a bar plot for the distribution of a variable we need two sets of values:\n",
    "\n",
    "- One set containing the unique values.\n",
    "- Another set containing the frequency for each unique value.\n",
    "\n",
    "We can get this data easily from a frequency table. We can use `Series.value_counts()` to generate the table, and then use the `Series.plot.bar()` method on the resulting table to generate a bar plot. Using the same WNBA dataset we've been working with for the past missions, this is how we'd do that for the Pos (player position) variable:"
   ]
  },
  {
   "cell_type": "code",
   "execution_count": 2,
   "metadata": {},
   "outputs": [
    {
     "data": {
      "text/plain": [
       "<AxesSubplot:>"
      ]
     },
     "execution_count": 2,
     "metadata": {},
     "output_type": "execute_result"
    },
    {
     "data": {
      "image/png": "[encoded data removed]",
      "text/plain": [
       "<Figure size 432x288 with 1 Axes>"
      ]
     },
     "metadata": {
      "needs_background": "light"
     },
     "output_type": "display_data"
    }
   ],
   "source": [
    "wnba['Pos'].value_counts().plot.bar()"
   ]
  },
  {
   "cell_type": "markdown",
   "metadata": {},
   "source": [
    "The `Series.plot.bar()` method generates a vertical bar plot with the frequencies on the y-axis, and the unique values on the x-axis. To generate a horizontal bar plot, we can use the `Series.plot.barh()` method:"
   ]
  },
  {
   "cell_type": "code",
   "execution_count": 3,
   "metadata": {},
   "outputs": [
    {
     "data": {
      "text/plain": [
       "<AxesSubplot:>"
      ]
     },
     "execution_count": 3,
     "metadata": {},
     "output_type": "execute_result"
    },
    {
     "data": {
      "image/png": "[encoded data removed]",
      "text/plain": [
       "<Figure size 432x288 with 1 Axes>"
      ]
     },
     "metadata": {
      "needs_background": "light"
     },
     "output_type": "display_data"
    }
   ],
   "source": [
    "wnba['Pos'].value_counts().plot.barh()"
   ]
  },
  {
   "cell_type": "markdown",
   "metadata": {},
   "source": [
    "Horizontal bar plots are ideal to use when the labels of the unique values are long.\n",
    "\n",
    "We've taken information from the Experience column, and created a new column named Exp_ordinal, which is measured on an ordinal scale. The new column has five unique labels, and each one corresponds to a number of years a player has played in WNBA:"
   ]
  },
  {
   "cell_type": "code",
   "execution_count": 13,
   "metadata": {},
   "outputs": [],
   "source": [
    "def label_experience (years):\n",
    "    if years == 'R':\n",
    "        return 'Rookie'\n",
    "    elif int(years) < 4:\n",
    "        return 'Little experience'\n",
    "    elif int(years) < 6:\n",
    "        return 'Experienced'\n",
    "    elif int(years) < 10:\n",
    "        return 'Very experienced'\n",
    "    else:\n",
    "        return 'Veteran'\n",
    "    \n",
    "wnba['Exp_ordinal'] = wnba['Experience'].map(label_experience)"
   ]
  },
  {
   "cell_type": "code",
   "execution_count": 16,
   "metadata": {},
   "outputs": [
    {
     "data": {
      "text/plain": [
       "0    Little experience\n",
       "1              Veteran\n",
       "2          Experienced\n",
       "3     Very experienced\n",
       "4               Rookie\n",
       "Name: Exp_ordinal, dtype: object"
      ]
     },
     "execution_count": 16,
     "metadata": {},
     "output_type": "execute_result"
    }
   ],
   "source": [
    "wnba['Exp_ordinal'].head()"
   ]
  },
  {
   "cell_type": "markdown",
   "metadata": {},
   "source": [
    "*Create a bar plot to display the distribution of the Exp_ordinal variable:*\n",
    "\n",
    "- *Generate a frequency table for the Exp_ordinal variable.*\n",
    "- *Sort the table by unique labels in an ascending order using the techiques we learned in the previous mission.*\n",
    "- *Generate a bar plot using the Series.plot.bar() method.*"
   ]
  },
  {
   "cell_type": "code",
   "execution_count": 21,
   "metadata": {},
   "outputs": [
    {
     "data": {
      "text/plain": [
       "Little experience    42\n",
       "Very experienced     32\n",
       "Experienced          25\n",
       "Rookie               23\n",
       "Veteran              21\n",
       "Name: Exp_ordinal, dtype: int64"
      ]
     },
     "execution_count": 21,
     "metadata": {},
     "output_type": "execute_result"
    }
   ],
   "source": [
    "wnba['Exp_ordinal'].value_counts()"
   ]
  },
  {
   "cell_type": "code",
   "execution_count": 22,
   "metadata": {},
   "outputs": [
    {
     "data": {
      "image/png": "[encoded data removed]",
      "text/plain": [
       "<Figure size 432x288 with 1 Axes>"
      ]
     },
     "metadata": {
      "needs_background": "light"
     },
     "output_type": "display_data"
    }
   ],
   "source": [
    "wnba['Exp_ordinal'].value_counts().iloc[[3,0,2,1,4]].plot.bar();"
   ]
  },
  {
   "cell_type": "markdown",
   "metadata": {},
   "source": [
    "## Horizontal bar plots\n",
    "\n",
    "One of the problems with the bar plot we built in the last exercise is that the tick labels of the x-axis are hard to read...\n",
    "\n",
    "To fix this we can rotate the labels, or we can switch to a horizontal bar plot. We can rotate the labels using the rot parameter of Series.plot.bar() method we used. The labels are already rotated at 90°, and we can tilt them a bit at 45°:"
   ]
  },
  {
   "cell_type": "code",
   "execution_count": 23,
   "metadata": {},
   "outputs": [
    {
     "data": {
      "text/plain": [
       "<AxesSubplot:>"
      ]
     },
     "execution_count": 23,
     "metadata": {},
     "output_type": "execute_result"
    },
    {
     "data": {
      "image/png": "[encoded data removed]",
      "text/plain": [
       "<Figure size 432x288 with 1 Axes>"
      ]
     },
     "metadata": {
      "needs_background": "light"
     },
     "output_type": "display_data"
    }
   ],
   "source": [
    "wnba['Exp_ordinal'].value_counts().iloc[[3,0,2,1,4]].plot.bar(rot = 45)"
   ]
  },
  {
   "cell_type": "markdown",
   "metadata": {},
   "source": [
    "Slightly better, but we can do a better job with a horizontal bar plot. If we wanted to publish this bar plot, we'd also have to make it more informative by adding a title. This is what we'll do in the next exercise, but for now this is how we could do that for the Pos variable (note that we use the Series.plot.barh() method, not Series.plot.bar()):"
   ]
  },
  {
   "cell_type": "code",
   "execution_count": 24,
   "metadata": {},
   "outputs": [
    {
     "data": {
      "text/plain": [
       "<AxesSubplot:title={'center':'Number of players in WNBA by position'}>"
      ]
     },
     "execution_count": 24,
     "metadata": {},
     "output_type": "execute_result"
    },
    {
     "data": {
      "image/png": "[encoded data removed]",
      "text/plain": [
       "<Figure size 432x288 with 1 Axes>"
      ]
     },
     "metadata": {
      "needs_background": "light"
     },
     "output_type": "display_data"
    }
   ],
   "source": [
    "wnba['Pos'].value_counts().plot.barh(title = 'Number of players in WNBA by position')"
   ]
  },
  {
   "cell_type": "markdown",
   "metadata": {},
   "source": [
    "*Create a horizontal bar plot to visualize the distribution of the Exp_ordinal variable.*\n",
    "\n",
    "- *Generate a frequency table for the Exp_ordinal variable.*\n",
    "- *Sort the table by unique labels in an ascending order.*\n",
    "- *Use the Series.plot.barh() method to generate the horizontal bar plot.*\n",
    "- *Add the following title to the plot: \"Number of players in WNBA by level of experience\".*"
   ]
  },
  {
   "cell_type": "code",
   "execution_count": 26,
   "metadata": {},
   "outputs": [
    {
     "data": {
      "text/plain": [
       "<AxesSubplot:title={'center':'Number of players in WNBA by level of experience'}>"
      ]
     },
     "execution_count": 26,
     "metadata": {},
     "output_type": "execute_result"
    },
    {
     "data": {
      "image/png": "[encoded data removed]",
      "text/plain": [
       "<Figure size 432x288 with 1 Axes>"
      ]
     },
     "metadata": {
      "needs_background": "light"
     },
     "output_type": "display_data"
    }
   ],
   "source": [
    "wnba['Exp_ordinal'].value_counts().iloc[[3,0,2,1,4]].plot.barh(title = 'Number of players in WNBA by level of experience')"
   ]
  },
  {
   "cell_type": "markdown",
   "metadata": {},
   "source": [
    "## Pie charts\n",
    "\n",
    "Another kind of graph we can use to visualize the distribution of nominal and ordinal variables is a pie chart.\n",
    "\n",
    "Just as the name suggests, a pie chart is structured pretty much like a regular pie: it takes the form of a circle and is divided in wedges. Each wedge in a pie chart represents a category (one of the unique labels), and the size of each wedge is given by the proportion (or percentage) of that category in the distribution.\n",
    "\n",
    "![img](img/pie.png)\n",
    "\n",
    "We can generate pie charts using the Series.plot.pie() method. This is how we'd do that for the Pos variable:"
   ]
  },
  {
   "cell_type": "code",
   "execution_count": 27,
   "metadata": {},
   "outputs": [
    {
     "data": {
      "text/plain": [
       "<AxesSubplot:ylabel='Pos'>"
      ]
     },
     "execution_count": 27,
     "metadata": {},
     "output_type": "execute_result"
    },
    {
     "data": {
      "image/png": "[encoded data removed]",
      "text/plain": [
       "<Figure size 432x288 with 1 Axes>"
      ]
     },
     "metadata": {},
     "output_type": "display_data"
    }
   ],
   "source": [
    "wnba['Pos'].value_counts().plot.pie()"
   ]
  },
  {
   "cell_type": "markdown",
   "metadata": {},
   "source": [
    "The main advantage of pie charts over bar plots is that they provide a much better sense for the relative frequencies (proportions and percentages) in the distribution. Looking at a bar plot, we can see that categories are more or less numerous than others, but it's really hard to tell what proportion in the distribution each category takes.\n",
    "\n",
    "With pie charts, we can immediately get a visual sense for the proportion each category takes in a distribution. Just by eyeballing the pie chart above we can make a series of observations in terms of proportions:\n",
    "\n",
    "- Guards (\"G\") take about two fifths (2/5) of the distribution.\n",
    "- Forwards (\"F\") make up roughly a quarter (1/4) of the distribution.\n",
    "- Close to one fifth (1/5) of the distribution is made of centers (\"C\").\n",
    "- Combined positions (\"G/F\" and \"F/C\") together make up roughly one fifth (1/5) of the distribution.\n",
    "\n",
    "\n",
    "*Generate a pie chart to visualize the distribution of the Exp_ordinal variable.*\n",
    "\n",
    "- *Generate a frequency table for the Exp_ordinal variable. Don't sort the table this time.*\n",
    "- *Use the Series.plot.pie() method to generate the pie plot.*"
   ]
  },
  {
   "cell_type": "code",
   "execution_count": 28,
   "metadata": {},
   "outputs": [
    {
     "data": {
      "text/plain": [
       "<AxesSubplot:ylabel='Exp_ordinal'>"
      ]
     },
     "execution_count": 28,
     "metadata": {},
     "output_type": "execute_result"
    },
    {
     "data": {
      "image/png": "[encoded data removed]",
      "text/plain": [
       "<Figure size 432x288 with 1 Axes>"
      ]
     },
     "metadata": {},
     "output_type": "display_data"
    }
   ],
   "source": [
    "wnba['Exp_ordinal'].value_counts().plot.pie()"
   ]
  },
  {
   "cell_type": "markdown",
   "metadata": {},
   "source": [
    "### Customizing a pie chart\n",
    "\n",
    "The pie chart we generated in the previous exercise is more an ellipsis than a circle, and the Exp_ordinal label is unaesthetic and hard to read.\n",
    "\n",
    "To give a pie chart the right shape, we need to specify equal values for height and width in the figsize parameter of Series.plot.pie(). The Exp_ordinal is the label of a hidden y-axis, which means we can use the plt.ylabel() function to remove it. This is how we can do this for the Pos variable:"
   ]
  },
  {
   "cell_type": "code",
   "execution_count": 32,
   "metadata": {},
   "outputs": [
    {
     "data": {
      "text/plain": [
       "Text(0, 0.5, '')"
      ]
     },
     "execution_count": 32,
     "metadata": {},
     "output_type": "execute_result"
    },
    {
     "data": {
      "image/png": "[encoded data removed]",
      "text/plain": [
       "<Figure size 432x432 with 1 Axes>"
      ]
     },
     "metadata": {},
     "output_type": "display_data"
    }
   ],
   "source": [
    "import matplotlib.pyplot as plt\n",
    "\n",
    "wnba['Pos'].value_counts().plot.pie(figsize = (6,6))\n",
    "plt.ylabel('')"
   ]
  },
  {
   "cell_type": "markdown",
   "metadata": {},
   "source": [
    "Ideally, we'd have proportions or percentages displayed on each wedge of the pie chart. Fortunately, this is easy to get using the `autopct` parameter. This parameter accepts Python string formatting, and we'll use the string `'%.1f%%'` to have percentages displayed with a precision of one decimal place. Let's break down this string formatting:\n",
    "\n",
    "![img](img/format.png)\n",
    "\n",
    "This is how the process looks for the Pos variable:"
   ]
  },
  {
   "cell_type": "code",
   "execution_count": 33,
   "metadata": {},
   "outputs": [
    {
     "data": {
      "text/plain": [
       "<AxesSubplot:ylabel='Pos'>"
      ]
     },
     "execution_count": 33,
     "metadata": {},
     "output_type": "execute_result"
    },
    {
     "data": {
      "image/png": "[encoded data removed]",
      "text/plain": [
       "<Figure size 432x432 with 1 Axes>"
      ]
     },
     "metadata": {},
     "output_type": "display_data"
    }
   ],
   "source": [
    "wnba['Pos'].value_counts().plot.pie(figsize = (6,6), autopct = '%.1f%%')"
   ]
  },
  {
   "cell_type": "markdown",
   "metadata": {},
   "source": [
    "Notice that the percentages were automatically determined under the hood, which means we don't have to transform to percentages ourselves using Series.value_counts(normalize = True) * 100.\n",
    "\n",
    "Other display formats are possible, and more documentation on the the syntax of string formatting in Python can be found [here](https://docs.python.org/3/library/string.html#format-specification-mini-language). Documentation on autopct and other nice customization parameters can be found [here](https://matplotlib.org/stable/api/_as_gen/matplotlib.pyplot.pie.html)."
   ]
  },
  {
   "cell_type": "markdown",
   "metadata": {},
   "source": [
    "*Generate and customize a pie chart to visualize the distribution of the Exp_ordinal variable.*\n",
    "\n",
    "- Generate a frequency table for the Exp_ordinal variable. Don't sort the table this time.\n",
    "\n",
    "- Use the Series.plot.pie() method to generate the pie plot.\n",
    "\n",
    "    - Use the figsize parameter to specify a width and a height of 6 inches each.\n",
    "    - Use the autopct parameter to have percentages displayed with a precision of 2 decimal places.\n",
    "    - Add the following title to the plot: \"Percentage of players in WNBA by level of experience\".\n",
    "    - Remove the Exp_ordinal label."
   ]
  },
  {
   "cell_type": "code",
   "execution_count": 36,
   "metadata": {},
   "outputs": [
    {
     "data": {
      "text/plain": [
       "Text(0, 0.5, '')"
      ]
     },
     "execution_count": 36,
     "metadata": {},
     "output_type": "execute_result"
    },
    {
     "data": {
      "image/png": "[encoded data removed]",
      "text/plain": [
       "<Figure size 432x432 with 1 Axes>"
      ]
     },
     "metadata": {},
     "output_type": "display_data"
    }
   ],
   "source": [
    "wnba['Exp_ordinal'].value_counts().plot.pie(figsize = (6,6), autopct = '%.2f%%', \n",
    "                                            title = 'Percentage of players in WNBA by level of experience')\n",
    "\n",
    "plt.ylabel('')"
   ]
  },
  {
   "cell_type": "markdown",
   "metadata": {},
   "source": [
    "## Histograms\n",
    "\n",
    "Because of the special properties of variables measured on interval and ratio scales, we can describe distributions in more elaborate ways. Let's examine the PTS (total points) variable, which is discrete and measured on a ratio scale:"
   ]
  },
  {
   "cell_type": "code",
   "execution_count": 37,
   "metadata": {},
   "outputs": [
    {
     "data": {
      "text/plain": [
       "count    143.000000\n",
       "mean     201.790210\n",
       "std      153.381548\n",
       "min        2.000000\n",
       "25%       75.000000\n",
       "50%      177.000000\n",
       "75%      277.500000\n",
       "max      584.000000\n",
       "Name: PTS, dtype: float64"
      ]
     },
     "execution_count": 37,
     "metadata": {},
     "output_type": "execute_result"
    }
   ],
   "source": [
    "wnba['PTS'].describe()"
   ]
  },
  {
   "cell_type": "markdown",
   "metadata": {},
   "source": [
    "We can see that 75% of the values are distributed within a relatively narrow interval (between 2 and 277), while the remaining 25% are distributed in an interval that's slightly larger.\n",
    "\n",
    "![img](img/interval.png)\n",
    "\n",
    "To visualize the distribution of the PTS variable, we need to use a graph that allows us to see immediately the patterns outlined above. The most commonly used graph for this scenario is the **histogram**.\n",
    "\n",
    "To generate a histogram for the PTS variable, we can use the Series.plot.hist() method directly on the wnba['PTS'] column (we don't have to generate a frequency table in this case):"
   ]
  },
  {
   "cell_type": "code",
   "execution_count": 39,
   "metadata": {},
   "outputs": [
    {
     "data": {
      "image/png": "[encoded data removed]",
      "text/plain": [
       "<Figure size 432x288 with 1 Axes>"
      ]
     },
     "metadata": {
      "needs_background": "light"
     },
     "output_type": "display_data"
    }
   ],
   "source": [
    "wnba['PTS'].plot.hist();"
   ]
  },
  {
   "cell_type": "markdown",
   "metadata": {},
   "source": [
    "## The statistics behind histograms\n",
    "\n",
    "Under the hood, the wnba['PTS'].plot.hist() method:\n",
    "\n",
    "- Generated a grouped frequency distribution table for the PTS variable with ten class intervals.\n",
    "- For each class interval it plotted a bar with a height corresponding to the frequency of the interval.\n",
    "\n",
    "Let's examine the grouped frequency distribution table of the PTS variable:"
   ]
  },
  {
   "cell_type": "code",
   "execution_count": 41,
   "metadata": {},
   "outputs": [
    {
     "data": {
      "text/plain": [
       "(1.417, 60.2]     30\n",
       "(60.2, 118.4]     24\n",
       "(118.4, 176.6]    17\n",
       "(176.6, 234.8]    20\n",
       "(234.8, 293.0]    17\n",
       "(293.0, 351.2]     8\n",
       "(351.2, 409.4]    10\n",
       "(409.4, 467.6]     8\n",
       "(467.6, 525.8]     4\n",
       "(525.8, 584.0]     5\n",
       "Name: PTS, dtype: int64"
      ]
     },
     "execution_count": 41,
     "metadata": {},
     "output_type": "execute_result"
    }
   ],
   "source": [
    "wnba['PTS'].value_counts(bins = 10).sort_index()"
   ]
  },
  {
   "cell_type": "markdown",
   "metadata": {},
   "source": [
    "Each bar in the histogram corresponds to one class interval. To show this is true, we'll generate below the same histogram as in the previous screen, but this time:\n",
    "\n",
    "- We'll add the values of the x-ticks manually using the xticks parameter.\n",
    "    - The values will be the limits of each class interval.\n",
    "    - We use the arange() function from numpy to generate the values and avoid spending time with typing all the values ourselves.\n",
    "    - We start at 2, not at 1.417, because this is the actual minimum value of the first class interval (we discussed about this in more detail in the previous mission).\n",
    "- We'll add a grid line using the grid parameter to demarcate clearly each bar.\n",
    "- We'll rotate the tick labels of the x-axis using the rot parameter for better readability."
   ]
  },
  {
   "cell_type": "code",
   "execution_count": 42,
   "metadata": {},
   "outputs": [
    {
     "data": {
      "text/plain": [
       "<AxesSubplot:ylabel='Frequency'>"
      ]
     },
     "execution_count": 42,
     "metadata": {},
     "output_type": "execute_result"
    },
    {
     "data": {
      "image/png": "[encoded data removed]",
      "text/plain": [
       "<Figure size 432x288 with 1 Axes>"
      ]
     },
     "metadata": {
      "needs_background": "light"
     },
     "output_type": "display_data"
    }
   ],
   "source": [
    "from numpy import arange\n",
    "\n",
    "wnba['PTS'].plot.hist(grid = True, xticks = arange(2,585,58.2), rot = 30)"
   ]
  },
  {
   "cell_type": "markdown",
   "metadata": {},
   "source": [
    "Looking on the histogram above, we can extract the same information as from the grouped frequency table. We can see that there are 20 players in the interval (176.6, 234.8], 10 players in the interval (351.2, 409.4], etc.\n",
    "\n",
    "More importantly, we can see the patterns we wanted to see in the last screen when we examined the output of wnba['PTS'].describe().\n",
    "\n",
    "![img](img/describe.png)\n",
    "\n",
    "From the output of wnba['PTS'].describe() we can see that most of the values (75%) are distributed within a relatively narrow interval (between 2 and 277). This tells us that:\n",
    "\n",
    "- The values are distributed unevenly across the 2 - 584 range (2 is the minimum value in the PTS variable, and 584 is the maximum).\n",
    "- Most values are clustered in the first (left) part of the the distribution's range.\n",
    "\n",
    "![img](img/ranges.png)\n",
    "\n",
    "We can immediately see the same two patterns on the histogram above:\n",
    "\n",
    "- The distribution of values is uneven, with each class interval having a different frequency. If the distribution was even, all the class intervals would have the same frequency.\n",
    "- Most values (roughly three quarters) are clustered in the left half of the histogram.\n",
    "\n",
    "While it's easy and fast to make good estimates simply by looking at a histogram, it's always a good idea to add precision to our estimates using the percentile values we get from Series.describe()."
   ]
  },
  {
   "cell_type": "markdown",
   "metadata": {},
   "source": [
    "- *Examine the distribution of the Games Played variable using the Series.describe() method. Just from the output of this method, predict how the histogram of the Games Played variable should look like.*\n",
    "\n",
    "- *Once you have a good idea of what histogram shape to expect, plot a histogram for the Games Played variable using Series.plot.hist().*"
   ]
  },
  {
   "cell_type": "code",
   "execution_count": 47,
   "metadata": {},
   "outputs": [
    {
     "data": {
      "text/plain": [
       "count    143.000000\n",
       "mean      24.356643\n",
       "std        7.104259\n",
       "min        2.000000\n",
       "25%       22.000000\n",
       "50%       27.000000\n",
       "75%       29.000000\n",
       "max       32.000000\n",
       "Name: Games Played, dtype: float64"
      ]
     },
     "execution_count": 47,
     "metadata": {},
     "output_type": "execute_result"
    }
   ],
   "source": [
    "wnba['Games Played'].describe()"
   ]
  },
  {
   "cell_type": "code",
   "execution_count": 46,
   "metadata": {},
   "outputs": [
    {
     "data": {
      "text/plain": [
       "<AxesSubplot:ylabel='Frequency'>"
      ]
     },
     "execution_count": 46,
     "metadata": {},
     "output_type": "execute_result"
    },
    {
     "data": {
      "image/png": "[encoded data removed]",
      "text/plain": [
       "<Figure size 432x288 with 1 Axes>"
      ]
     },
     "metadata": {
      "needs_background": "light"
     },
     "output_type": "display_data"
    }
   ],
   "source": [
    "wnba['Games Played'].plot.hist()"
   ]
  },
  {
   "cell_type": "markdown",
   "metadata": {},
   "source": [
    "## Histograms as modified bar plots\n",
    "\n",
    "It should now be clear that a histogram is basically the visual form of a grouped frequency table. Structurally, a histogram can also be understood as a modified version of a bar plot. The main difference is that in the case of a histogram there are no gaps between bars, and each bar represents an interval, not a single value.\n",
    "\n",
    "The main reason we remove the gaps between bars in case of a histogram is that we want to show that the class intervals we plot are adjacent to one another. With the exception of the last interval, the ending point of an interval is the starting point of the next interval, and we want that to be seen on the graph.\n",
    "\n",
    "![img](img/end.png)\n",
    "\n",
    "For bar plots we add gaps because in most cases we don't know whether the unique values of ordinal variables are adjacent to one another in the same way as two class intervals are. It's safer to assume that the values are not adjacent, and add gaps.\n",
    "\n",
    "![img](img/gap.png)\n",
    "\n",
    "For nominal variables, values can't be numerically adjacent in principle, and we add gaps to emphasize that the values are fundamentally distinct.\n",
    "\n",
    "Below we summarize what we've learned so far:\n",
    "\n",
    "![img](img/scale.png)\n"
   ]
  },
  {
   "cell_type": "markdown",
   "metadata": {},
   "source": [
    "## Binning for histograms\n",
    "\n",
    "You might have noticed that Series.plot.hist() splits a distribution by default into 10 class intervals. In the previous mission, we learned that 10 is a good number of class intervals to choose because it offers a good balance between information and comprehensibility.\n",
    "\n",
    "With histograms, the breakdown point is generally larger than 10 because visualizing a picture is much easier than reading a grouped frequency table. However, once the number of class intervals goes over 30 or so, the granularity increases so much that for some intervals the frequency will be zero. This will result in a discontinued histogram from which is hard to discern patterns.\n",
    "\n",
    "Below, we can see how the histogram of the PTS variable changes as we vary the number of class intervals.\n",
    "\n",
    "![img](img/disc.png)\n",
    "\n",
    "To modify the number of class intervals used for a histogram, we can use the bins parameter of Series.plot.hist(). A bin is the same thing as a class interval, and, when it comes to histograms, the term \"bin\" is used much more often.\n",
    "\n",
    "Also, we'll often want to avoid letting pandas work out the intervals, and use instead intervals that we think make more sense. We can do this in two steps:\n",
    "\n",
    "- We start with specifying the range of the entire distribution using the range parameter of Series.plot.hist().\n",
    "- Then we combine that with the number of bins to get the intervals we want.\n",
    "\n",
    "Let's say we want to get these three intervals for the distribution of the PTS variable:\n",
    "\n",
    "- [1, 200)\n",
    "- [200, 400)\n",
    "- [400, 600]\n",
    "\n",
    "\n",
    "If the histogram ranges from 1 to 600, and we specify that we want three bins, then the bins will automatically take the intervals above. This is because the bins must have equal interval lengths, and, at the same time, cover together the entire range between 1 and 600. To cover a range of 600 with three bins, we need each bin to cover 200 points, with the first bin starting at 1, and the last bin ending at 600.\n",
    "\n",
    "![img](img/binns.png)\n",
    "\n",
    "This is how we can generate a histogram with three bins and a 1 - 600 range for the PTS variable:"
   ]
  },
  {
   "cell_type": "code",
   "execution_count": 48,
   "metadata": {},
   "outputs": [
    {
     "data": {
      "text/plain": [
       "<AxesSubplot:ylabel='Frequency'>"
      ]
     },
     "execution_count": 48,
     "metadata": {},
     "output_type": "execute_result"
    },
    {
     "data": {
      "image/png": "[encoded data removed]",
      "text/plain": [
       "<Figure size 432x288 with 1 Axes>"
      ]
     },
     "metadata": {
      "needs_background": "light"
     },
     "output_type": "display_data"
    }
   ],
   "source": [
    "wnba['PTS'].plot.hist(range = (1,600), bins = 3)"
   ]
  },
  {
   "cell_type": "markdown",
   "metadata": {},
   "source": [
    "If we keep the same range, but change to six bins, then we'll get these six intervals: [1, 100), [100, 200), [200, 300), [300, 400), [400, 500), [500, 600]."
   ]
  },
  {
   "cell_type": "code",
   "execution_count": 49,
   "metadata": {},
   "outputs": [
    {
     "data": {
      "text/plain": [
       "<AxesSubplot:ylabel='Frequency'>"
      ]
     },
     "execution_count": 49,
     "metadata": {},
     "output_type": "execute_result"
    },
    {
     "data": {
      "image/png": "[encoded data removed]",
      "text/plain": [
       "<Figure size 432x288 with 1 Axes>"
      ]
     },
     "metadata": {
      "needs_background": "light"
     },
     "output_type": "display_data"
    }
   ],
   "source": [
    "wnba['PTS'].plot.hist(range = (1,600), bins = 6)"
   ]
  },
  {
   "cell_type": "markdown",
   "metadata": {},
   "source": [
    "*Generate a histogram for the Games Played variable, and customize it in the following way:*\n",
    "\n",
    "- *Each bin must cover an interval of 4 games. The first bin must start at 1, the last bin must end at 32.*\n",
    "- *Add the title \"The distribution of players by games played\".*\n",
    "- *Add a label to the x-axis named \"Games played\".*"
   ]
  },
  {
   "cell_type": "code",
   "execution_count": 50,
   "metadata": {},
   "outputs": [
    {
     "data": {
      "text/plain": [
       "Text(0.5, 0, 'Games played')"
      ]
     },
     "execution_count": 50,
     "metadata": {},
     "output_type": "execute_result"
    },
    {
     "data": {
      "image/png": "[encoded data removed]",
      "text/plain": [
       "<Figure size 432x288 with 1 Axes>"
      ]
     },
     "metadata": {
      "needs_background": "light"
     },
     "output_type": "display_data"
    }
   ],
   "source": [
    "wnba['Games Played'].plot.hist(range = (1, 32), bins = 8, title = 'The distribution of players by games played')\n",
    "plt.xlabel('Games played')"
   ]
  },
  {
   "cell_type": "markdown",
   "metadata": {},
   "source": [
    "## Skewed distributions\n",
    "\n",
    "There are a couple of histogram shapes that appear often in practice. So far, we've met two of these shapes:\n",
    "\n",
    "![img](img/skew.png)\n",
    "\n",
    "In the histogram on the left, we can see that:\n",
    "\n",
    "- Most values pile up toward the endpoint of the range (32 games played).\n",
    "- There are less and less values toward the opposite end (0 games played).\n",
    "\n",
    "On the right histogram, we can see that:\n",
    "\n",
    "- Most values pile up toward the starting point of the range (0 points).\n",
    "- There are less and less values toward the opposite end.\n",
    "\n",
    "Both these histograms show skewed distributions. In a skewed distribution:\n",
    "\n",
    "- The values pile up toward the end or the starting point of the range, making up the body of the distribution.\n",
    "- Then the values decrease in frequency toward the opposite end, forming the tail of the distribution.\n",
    "\n",
    "![img](img/body.png)\n",
    "\n",
    "If the tail points to the left, then the distribution is said to be **left skewed**. When it points to the left, the tail points at the same time in the direction of negative numbers, and for this reason the distribution is sometimes also called **negatively skewed**.\n",
    "\n",
    "If the tail points to the right, then the distribution is **right skewed**. The distribution is sometimes also said to be **positively skewed** because the tail points in the direction of positive numbers.\n",
    "\n",
    "![img](img/ske2.png)"
   ]
  },
  {
   "cell_type": "markdown",
   "metadata": {},
   "source": [
    "*Examine the distribution of the following two variables:*\n",
    "\n",
    "- AST (number of assists).\n",
    "- FT% (percentage of free throws made out of all attempts)."
   ]
  },
  {
   "cell_type": "code",
   "execution_count": 51,
   "metadata": {},
   "outputs": [
    {
     "data": {
      "text/plain": [
       "<AxesSubplot:ylabel='Frequency'>"
      ]
     },
     "execution_count": 51,
     "metadata": {},
     "output_type": "execute_result"
    },
    {
     "data": {
      "image/png": "[encoded data removed]",
      "text/plain": [
       "<Figure size 432x288 with 1 Axes>"
      ]
     },
     "metadata": {
      "needs_background": "light"
     },
     "output_type": "display_data"
    }
   ],
   "source": [
    "wnba['AST'].plot.hist()"
   ]
  },
  {
   "cell_type": "code",
   "execution_count": 52,
   "metadata": {},
   "outputs": [
    {
     "data": {
      "text/plain": [
       "<AxesSubplot:ylabel='Frequency'>"
      ]
     },
     "execution_count": 52,
     "metadata": {},
     "output_type": "execute_result"
    },
    {
     "data": {
      "image/png": "[encoded data removed]",
      "text/plain": [
       "<Figure size 432x288 with 1 Axes>"
      ]
     },
     "metadata": {
      "needs_background": "light"
     },
     "output_type": "display_data"
    }
   ],
   "source": [
    "wnba['FT%'].plot.hist()"
   ]
  },
  {
   "cell_type": "markdown",
   "metadata": {},
   "source": [
    "## Symmetrical distributions\n",
    "\n",
    "Besides skewed distributions, we often see histograms with a shape that is more or less symmetrical. If we draw a vertical line exactly in the middle of a symmetrical histogram, then we'll divide the histogram in two halves that are mirror images of one another.\n",
    "\n",
    "![img](img/sym.png)\n",
    "\n",
    "If the shape of the histogram is symmetrical, then we say that we have a **symmetrical distribution**.\n",
    "\n",
    "A very common symmetrical distribution is one where the values pile up in the middle and gradually decrease in frequency toward both ends of the histogram. This pattern is specific to what we call a **normal distribution** (also called Gaussian distribution).\n",
    "\n",
    "![img](img/normal.png)\n",
    "\n",
    "\n",
    "Another common symmetrical distribution is one where the values are distributed uniformly across the entire range. This pattern is specific to a **uniform distribution**.\n",
    "\n",
    "![img](img/uniform.png)\n",
    "\n",
    "In practice, we rarely see *perfectly* symmetrical distributions. However, it's common to use perfectly symmetrical distributions as baselines for describing the distributions we see in practice. For instance, we'd describe the distribution of the Weight variable as resembling closely a normal distribution:"
   ]
  },
  {
   "cell_type": "code",
   "execution_count": 53,
   "metadata": {},
   "outputs": [
    {
     "data": {
      "text/plain": [
       "<AxesSubplot:ylabel='Frequency'>"
      ]
     },
     "execution_count": 53,
     "metadata": {},
     "output_type": "execute_result"
    },
    {
     "data": {
      "image/png": "[encoded data removed]",
      "text/plain": [
       "<Figure size 432x288 with 1 Axes>"
      ]
     },
     "metadata": {
      "needs_background": "light"
     },
     "output_type": "display_data"
    }
   ],
   "source": [
    "wnba['Weight'].plot.hist()"
   ]
  },
  {
   "cell_type": "markdown",
   "metadata": {},
   "source": [
    "When we say that the distribution above resembles closely a normal distribution, we mean that most values pile up somewhere close to the middle and decrease in frequency more or less gradually toward both ends of the histogram.\n",
    "\n",
    "A similar reasoning applies to skewed distributions. We don't see very often clear-cut skewed distributions, and we use the left and right skewed distributions as baselines for comparison. For instance, we'd say that the distribution of the BMI variable is slightly right skewed:"
   ]
  },
  {
   "cell_type": "code",
   "execution_count": 54,
   "metadata": {},
   "outputs": [
    {
     "data": {
      "text/plain": [
       "<AxesSubplot:ylabel='Frequency'>"
      ]
     },
     "execution_count": 54,
     "metadata": {},
     "output_type": "execute_result"
    },
    {
     "data": {
      "image/png": "[encoded data removed]",
      "text/plain": [
       "<Figure size 432x288 with 1 Axes>"
      ]
     },
     "metadata": {
      "needs_background": "light"
     },
     "output_type": "display_data"
    }
   ],
   "source": [
    "wnba['BMI'].plot.hist()"
   ]
  },
  {
   "cell_type": "markdown",
   "metadata": {},
   "source": [
    "*Examine the distribution of the following variables, trying to determine which one resembles the most a normal distribution:*\n",
    "\n",
    "- Age\n",
    "- Height\n",
    "- MIN\n",
    "\n",
    "Assign to the variable normal_distribution the name of the variable (as a string) whose distribution resembles the most a normal one."
   ]
  },
  {
   "cell_type": "code",
   "execution_count": 55,
   "metadata": {},
   "outputs": [
    {
     "data": {
      "text/plain": [
       "<AxesSubplot:ylabel='Frequency'>"
      ]
     },
     "execution_count": 55,
     "metadata": {},
     "output_type": "execute_result"
    },
    {
     "data": {
      "image/png": "[encoded data removed]",
      "text/plain": [
       "<Figure size 432x288 with 1 Axes>"
      ]
     },
     "metadata": {
      "needs_background": "light"
     },
     "output_type": "display_data"
    }
   ],
   "source": [
    "wnba['Age'].plot.hist()"
   ]
  },
  {
   "cell_type": "code",
   "execution_count": 56,
   "metadata": {},
   "outputs": [
    {
     "data": {
      "text/plain": [
       "<AxesSubplot:ylabel='Frequency'>"
      ]
     },
     "execution_count": 56,
     "metadata": {},
     "output_type": "execute_result"
    },
    {
     "data": {
      "image/png": "[encoded data removed]",
      "text/plain": [
       "<Figure size 432x288 with 1 Axes>"
      ]
     },
     "metadata": {
      "needs_background": "light"
     },
     "output_type": "display_data"
    }
   ],
   "source": [
    "wnba['Height'].plot.hist()"
   ]
  },
  {
   "cell_type": "code",
   "execution_count": 57,
   "metadata": {},
   "outputs": [
    {
     "data": {
      "text/plain": [
       "<AxesSubplot:ylabel='Frequency'>"
      ]
     },
     "execution_count": 57,
     "metadata": {},
     "output_type": "execute_result"
    },
    {
     "data": {
      "image/png": "[encoded data removed]",
      "text/plain": [
       "<Figure size 432x288 with 1 Axes>"
      ]
     },
     "metadata": {
      "needs_background": "light"
     },
     "output_type": "display_data"
    }
   ],
   "source": [
    "wnba['MIN'].plot.hist()"
   ]
  }
 ],
 "metadata": {
  "kernelspec": {
   "display_name": "Python 3",
   "language": "python",
   "name": "python3"
  },
  "language_info": {
   "codemirror_mode": {
    "name": "ipython",
    "version": 3
   },
   "file_extension": ".py",
   "mimetype": "text/x-python",
   "name": "python",
   "nbconvert_exporter": "python",
   "pygments_lexer": "ipython3",
   "version": "3.8.5"
  }
 },
 "nbformat": 4,
 "nbformat_minor": 4
}
